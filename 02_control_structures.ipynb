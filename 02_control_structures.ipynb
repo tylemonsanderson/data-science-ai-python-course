{
 "cells": [
  {
   "cell_type": "markdown",
   "metadata": {},
   "source": [
    "# Notebook 2: Control Structures\n",
    "\n",
    "Welcome to your second Python notebook! Now that you understand variables and data types, let's learn how to make decisions and repeat operations in your code.\n",
    "\n",
    "**Learning Objectives:**\n",
    "- Use conditional statements (if, elif, else) to make decisions\n",
    "- Create loops to repeat operations\n",
    "- Understand the range() function\n",
    "- Handle basic errors in your code\n",
    "- Understand Python's indentation system"
   ]
  },
  {
   "cell_type": "markdown",
   "metadata": {},
   "source": [
    "## Python's Indentation System\n",
    "\n",
    "Before we start with control structures, it's important to understand that Python uses **indentation** (spaces or tabs) to group code blocks. This is different from many other programming languages that use curly braces {}."
   ]
  },
  {
   "cell_type": "code",
   "execution_count": null,
   "metadata": {},
   "outputs": [],
   "source": [
    "# Example of indentation\n",
    "x = 5\n",
    "if x > 0:\n",
    "    print(\"x is positive\")  # This line is indented\n",
    "    print(\"This is also part of the if block\")  # Same indentation level\n",
    "print(\"This line is not indented, so it's outside the if block\")"
   ]
  },
  {
   "cell_type": "markdown",
   "metadata": {},
   "source": [
    "## Conditional Statements\n",
    "\n",
    "Conditional statements let your program make decisions based on different conditions."
   ]
  },
  {
   "cell_type": "markdown",
   "metadata": {},
   "source": [
    "### Basic if Statement"
   ]
  },
  {
   "cell_type": "code",
   "execution_count": null,
   "metadata": {},
   "outputs": [],
   "source": [
    "temperature = 25\n",
    "\n",
    "if temperature > 20:\n",
    "    print(\"It's warm outside!\")\n",
    "    print(f\"The temperature is {temperature}°C\")"
   ]
  },
  {
   "cell_type": "markdown",
   "metadata": {},
   "source": [
    "### if-else Statement"
   ]
  },
  {
   "cell_type": "code",
   "execution_count": null,
   "metadata": {},
   "outputs": [],
   "source": [
    "score = 75\n",
    "\n",
    "if score >= 70:\n",
    "    print(\"Congratulations! You passed.\")\n",
    "    grade = \"Pass\"\n",
    "else:\n",
    "    print(\"Sorry, you need to retake the test.\")\n",
    "    grade = \"Fail\"\n",
    "\n",
    "print(f\"Your grade: {grade}\")"
   ]
  },
  {
   "cell_type": "markdown",
   "metadata": {},
   "source": [
    "### if-elif-else Statement"
   ]
  },
  {
   "cell_type": "code",
   "execution_count": null,
   "metadata": {},
   "outputs": [],
   "source": [
    "score = 85\n",
    "\n",
    "if score >= 90:\n",
    "    grade = \"A\"\n",
    "    print(\"Excellent work!\")\n",
    "elif score >= 80:\n",
    "    grade = \"B\"\n",
    "    print(\"Good job!\")\n",
    "elif score >= 70:\n",
    "    grade = \"C\"\n",
    "    print(\"You passed.\")\n",
    "elif score >= 60:\n",
    "    grade = \"D\"\n",
    "    print(\"You barely passed.\")\n",
    "else:\n",
    "    grade = \"F\"\n",
    "    print(\"You failed.\")\n",
    "\n",
    "print(f\"Final grade: {grade}\")"
   ]
  },
  {
   "cell_type": "markdown",
   "metadata": {},
   "source": [
    "## Comparison Operators\n",
    "\n",
    "These operators help you compare values in conditional statements:"
   ]
  },
  {
   "cell_type": "code",
   "execution_count": null,
   "metadata": {},
   "outputs": [],
   "source": [
    "a = 10\n",
    "b = 5\n",
    "\n",
    "print(f\"a = {a}, b = {b}\")\n",
    "print(f\"a == b: {a == b}\")  # Equal to\n",
    "print(f\"a != b: {a != b}\")  # Not equal to\n",
    "print(f\"a > b: {a > b}\")    # Greater than\n",
    "print(f\"a < b: {a < b}\")    # Less than\n",
    "print(f\"a >= b: {a >= b}\")  # Greater than or equal to\n",
    "print(f\"a <= b: {a <= b}\")  # Less than or equal to"
   ]
  },
  {
   "cell_type": "markdown",
   "metadata": {},
   "source": [
    "## Logical Operators\n",
    "\n",
    "Combine multiple conditions using logical operators:"
   ]
  },
  {
   "cell_type": "code",
   "execution_count": null,
   "metadata": {},
   "outputs": [],
   "source": [
    "age = 25\n",
    "has_license = True\n",
    "has_car = False\n",
    "\n",
    "# AND operator\n",
    "if age >= 18 and has_license:\n",
    "    print(\"You can legally drive.\")\n",
    "\n",
    "# OR operator\n",
    "if has_car or age >= 25:\n",
    "    print(\"You might get a discount on car rental.\")\n",
    "\n",
    "# NOT operator\n",
    "if not has_car:\n",
    "    print(\"You might want to consider buying a car.\")"
   ]
  },
  {
   "cell_type": "markdown",
   "metadata": {},
   "source": [
    "## For Loops\n",
    "\n",
    "For loops let you repeat code a specific number of times or iterate through data."
   ]
  },
  {
   "cell_type": "markdown",
   "metadata": {},
   "source": [
    "### Basic for Loop with range()"
   ]
  },
  {
   "cell_type": "code",
   "execution_count": null,
   "metadata": {},
   "outputs": [],
   "source": [
    "# Print numbers 0 to 4\n",
    "print(\"Counting from 0 to 4:\")\n",
    "for i in range(5):\n",
    "    print(f\"Count: {i}\")"
   ]
  },
  {
   "cell_type": "code",
   "execution_count": null,
   "metadata": {},
   "outputs": [],
   "source": [
    "# Print numbers 1 to 5\n",
    "print(\"Counting from 1 to 5:\")\n",
    "for i in range(1, 6):\n",
    "    print(f\"Count: {i}\")"
   ]
  },
  {
   "cell_type": "code",
   "execution_count": null,
   "metadata": {},
   "outputs": [],
   "source": [
    "# Print even numbers from 0 to 10\n",
    "print(\"Even numbers from 0 to 10:\")\n",
    "for i in range(0, 11, 2):  # start, stop, step\n",
    "    print(f\"Even number: {i}\")"
   ]
  },
  {
   "cell_type": "markdown",
   "metadata": {},
   "source": [
    "### Practical Example: Calculating Sum"
   ]
  },
  {
   "cell_type": "code",
   "execution_count": null,
   "metadata": {},
   "outputs": [],
   "source": [
    "# Calculate the sum of numbers from 1 to 10\n",
    "total = 0\n",
    "for i in range(1, 11):\n",
    "    total = total + i\n",
    "    print(f\"Adding {i}, total so far: {total}\")\n",
    "\n",
    "print(f\"Final sum: {total}\")"
   ]
  },
  {
   "cell_type": "markdown",
   "metadata": {},
   "source": [
    "### Loops with Conditions"
   ]
  },
  {
   "cell_type": "code",
   "execution_count": null,
   "metadata": {},
   "outputs": [],
   "source": [
    "# Print only positive numbers\n",
    "numbers = [-2, -1, 0, 1, 2, 3]\n",
    "\n",
    "print(\"Positive numbers:\")\n",
    "for num in numbers:\n",
    "    if num > 0:\n",
    "        print(f\"Positive: {num}\")"
   ]
  },
  {
   "cell_type": "markdown",
   "metadata": {},
   "source": [
    "## While Loops\n",
    "\n",
    "While loops repeat code as long as a condition is true. Be careful to avoid infinite loops!"
   ]
  },
  {
   "cell_type": "code",
   "execution_count": null,
   "metadata": {},
   "outputs": [],
   "source": [
    "# Countdown example\n",
    "count = 5\n",
    "print(\"Countdown:\")\n",
    "\n",
    "while count > 0:\n",
    "    print(f\"T-minus {count}\")\n",
    "    count = count - 1  # Important: update the condition variable!\n",
    "\n",
    "print(\"Blast off!\")"
   ]
  },
  {
   "cell_type": "markdown",
   "metadata": {},
   "source": [
    "### Practical Example: Finding a Target"
   ]
  },
  {
   "cell_type": "code",
   "execution_count": null,
   "metadata": {},
   "outputs": [],
   "source": [
    "# Find the first number divisible by 7 starting from 50\n",
    "number = 50\n",
    "found = False\n",
    "\n",
    "while not found:\n",
    "    if number % 7 == 0:  # Check if divisible by 7\n",
    "        print(f\"Found it! {number} is divisible by 7\")\n",
    "        found = True\n",
    "    else:\n",
    "        print(f\"{number} is not divisible by 7\")\n",
    "        number += 1"
   ]
  },
  {
   "cell_type": "markdown",
   "metadata": {},
   "source": [
    "## Loop Control: break and continue\n",
    "\n",
    "Sometimes you need to exit a loop early or skip certain iterations."
   ]
  },
  {
   "cell_type": "markdown",
   "metadata": {},
   "source": [
    "### Using break"
   ]
  },
  {
   "cell_type": "code",
   "execution_count": null,
   "metadata": {},
   "outputs": [],
   "source": [
    "# Stop the loop when we find a specific number\n",
    "print(\"Looking for the number 7:\")\n",
    "for i in range(1, 11):\n",
    "    if i == 7:\n",
    "        print(f\"Found {i}! Stopping the loop.\")\n",
    "        break\n",
    "    print(f\"Current number: {i}\")\n",
    "\n",
    "print(\"Loop finished.\")"
   ]
  },
  {
   "cell_type": "markdown",
   "metadata": {},
   "source": [
    "### Using continue"
   ]
  },
  {
   "cell_type": "code",
   "execution_count": null,
   "metadata": {},
   "outputs": [],
   "source": [
    "# Skip even numbers\n",
    "print(\"Odd numbers from 1 to 10:\")\n",
    "for i in range(1, 11):\n",
    "    if i % 2 == 0:  # If even, skip this iteration\n",
    "        continue\n",
    "    print(f\"Odd number: {i}\")"
   ]
  },
  {
   "cell_type": "markdown",
   "metadata": {},
   "source": [
    "## Nested Loops\n",
    "\n",
    "You can put loops inside other loops. This is useful for working with multi-dimensional data:"
   ]
  },
  {
   "cell_type": "code",
   "execution_count": null,
   "metadata": {},
   "outputs": [],
   "source": [
    "# Create a simple multiplication table\n",
    "print(\"Multiplication table (3x3):\")\n",
    "for i in range(1, 4):\n",
    "    for j in range(1, 4):\n",
    "        result = i * j\n",
    "        print(f\"{i} x {j} = {result}\")\n",
    "    print(\"---\")  # Separator between rows"
   ]
  },
  {
   "cell_type": "markdown",
   "metadata": {},
   "source": [
    "## Basic Error Handling\n",
    "\n",
    "Sometimes your code might encounter errors. Here's how to handle them gracefully:"
   ]
  },
  {
   "cell_type": "code",
   "execution_count": null,
   "metadata": {},
   "outputs": [],
   "source": [
    "# Handling division by zero\n",
    "numbers = [10, 5, 0, 2]\n",
    "\n",
    "for num in numbers:\n",
    "    try:\n",
    "        result = 100 / num\n",
    "        print(f\"100 / {num} = {result}\")\n",
    "    except ZeroDivisionError:\n",
    "        print(f\"Cannot divide by {num} (zero division error)\")\n",
    "    except Exception as e:\n",
    "        print(f\"An error occurred: {e}\")"
   ]
  },
  {
   "cell_type": "markdown",
   "metadata": {},
   "source": [
    "## Practice Exercises\n",
    "\n",
    "Let's practice what you've learned with some data science-related examples:"
   ]
  },
  {
   "cell_type": "markdown",
   "metadata": {},
   "source": [
    "### Exercise 1: Grade Analysis\n",
    "Given a list of test scores, count how many are passing (>= 70) and how many are failing."
   ]
  },
  {
   "cell_type": "code",
   "execution_count": null,
   "metadata": {},
   "outputs": [],
   "source": [
    "# Test scores\n",
    "scores = [85, 92, 67, 78, 95, 88, 76, 69, 82, 91]\n",
    "\n",
    "# Your code here\n",
    "passing_count = 0\n",
    "failing_count = 0\n",
    "\n",
    "for score in scores:\n",
    "    # Add your logic here\n",
    "    pass\n",
    "\n",
    "print(f\"Passing grades: {passing_count}\")\n",
    "print(f\"Failing grades: {failing_count}\")"
   ]
  },
  {
   "cell_type": "markdown",
   "metadata": {},
   "source": [
    "### Exercise 2: Data Cleaning\n",
    "Remove negative values from a dataset and calculate the average of the remaining values."
   ]
  },
  {
   "cell_type": "code",
   "execution_count": null,
   "metadata": {},
   "outputs": [],
   "source": [
    "# Raw data with some negative values (errors)\n",
    "raw_data = [23, -5, 45, 67, -12, 89, 34, -3, 56, 78]\n",
    "\n",
    "# Your code here\n",
    "clean_data = []\n",
    "total = 0\n",
    "count = 0\n",
    "\n",
    "for value in raw_data:\n",
    "    # Add your logic here\n",
    "    pass\n",
    "\n",
    "# Calculate average\n",
    "if count > 0:\n",
    "    average = total / count\n",
    "    print(f\"Clean data: {clean_data}\")\n",
    "    print(f\"Average: {average:.2f}\")\n",
    "else:\n",
    "    print(\"No valid data found\")"
   ]
  },
  {
   "cell_type": "markdown",
   "metadata": {},
   "source": [
    "### Exercise 3: Pattern Detection\n",
    "Find all numbers in a range that are divisible by both 3 and 5."
   ]
  },
  {
   "cell_type": "code",
   "execution_count": null,
   "metadata": {},
   "outputs": [],
   "source": [
    "# Find numbers divisible by both 3 and 5 from 1 to 100\n",
    "print(\"Numbers divisible by both 3 and 5:\")\n",
    "\n",
    "for i in range(1, 101):\n",
    "    # Your code here\n",
    "    pass"
   ]
  },
  {
   "cell_type": "markdown",
   "metadata": {},
   "source": [
    "### Exercise 4: Simple Statistics\n",
    "Calculate basic statistics (min, max, sum) for a dataset using loops."
   ]
  },
  {
   "cell_type": "code",
   "execution_count": null,
   "metadata": {},
   "outputs": [],
   "source": [
    "# Dataset\n",
    "data = [12, 45, 23, 67, 34, 89, 56, 78, 91, 43]\n",
    "\n",
    "# Initialize variables\n",
    "minimum = data[0]  # Start with first value\n",
    "maximum = data[0]\n",
    "total = 0\n",
    "\n",
    "# Your code here - calculate min, max, and sum\n",
    "for value in data:\n",
    "    # Add your logic here\n",
    "    pass\n",
    "\n",
    "average = total / len(data)\n",
    "\n",
    "print(f\"Dataset: {data}\")\n",
    "print(f\"Minimum: {minimum}\")\n",
    "print(f\"Maximum: {maximum}\")\n",
    "print(f\"Sum: {total}\")\n",
    "print(f\"Average: {average:.2f}\")"
   ]
  },
  {
   "cell_type": "markdown",
   "metadata": {},
   "source": [
    "## Key Takeaways\n",
    "\n",
    "1. **Indentation** is crucial in Python - it defines code blocks\n",
    "2. **Conditional statements** (if/elif/else) let you make decisions\n",
    "3. **For loops** are great for iterating a specific number of times\n",
    "4. **While loops** continue until a condition becomes false\n",
    "5. **range()** function is essential for creating number sequences\n",
    "6. **break** and **continue** give you control over loop execution\n",
    "7. **try/except** blocks help handle errors gracefully\n",
    "\n",
    "These control structures are fundamental to data science programming. You'll use them constantly when processing datasets, implementing algorithms, and analyzing results. In the next notebook, we'll learn about data structures like lists and dictionaries that will store and organize your data."
   ]
  },
  {
   "cell_type": "markdown",
   "metadata": {},
   "source": [
    "---\n",
    "\n",
    "## 📝 Mini-Challenge: Data Science Decision Making\n",
    "\n",
    "### Challenge 1: Temperature Data Classifier\n",
    "You're analyzing temperature data from different cities. Write a program that:\n",
    "1. Takes a temperature value\n",
    "2. Classifies it as \"Hot\" (>30°C), \"Warm\" (20-30°C), \"Cool\" (10-20°C), or \"Cold\" (<10°C)\n",
    "3. Suggests appropriate clothing"
   ]
  },
  {
   "cell_type": "code",
   "execution_count": null,
   "metadata": {},
   "outputs": [],
   "source": [
    "# Challenge 1: Temperature Classifier\n",
    "# Test with different temperatures: 35, 25, 15, 5, -5\n",
    "temperature = 25  # Change this value to test different scenarios\n",
    "\n",
    "if temperature > 30:\n",
    "    category = \"Hot\"\n",
    "    clothing = \"Light clothes, sunscreen\"\n",
    "elif temperature >= 20:\n",
    "    category = \"Warm\"\n",
    "    clothing = \"T-shirt, light jacket\"\n",
    "elif temperature >= 10:\n",
    "    category = \"Cool\"\n",
    "    clothing = \"Sweater, jeans\"\n",
    "else:\n",
    "    category = \"Cold\"\n",
    "    clothing = \"Warm coat, gloves, hat\"\n",
    "\n",
    "print(f\"Temperature: {temperature}°C\")\n",
    "print(f\"Category: {category}\")\n",
    "print(f\"Suggested clothing: {clothing}\")\n",
    "\n",
    "# Try different values here:"
   ]
  },
  {
   "cell_type": "markdown",
   "metadata": {},
   "source": [
    "### Challenge 2: Data Quality Checker\n",
    "Process a list of student scores and calculate statistics. Your program should:\n",
    "1. Check each score for validity (0-100)\n",
    "2. Count valid vs invalid scores\n",
    "3. Calculate the average of valid scores\n",
    "4. Identify the grade distribution"
   ]
  },
  {
   "cell_type": "code",
   "execution_count": null,
   "metadata": {},
   "outputs": [],
   "source": [
    "# Challenge 2: Data Quality Checker\n",
    "scores = [85, 92, 78, 105, -5, 88, 95, 76, 150, 82, 91, 73]\n",
    "\n",
    "valid_scores = []\n",
    "invalid_scores = []\n",
    "grade_counts = {\"A\": 0, \"B\": 0, \"C\": 0, \"D\": 0, \"F\": 0}\n",
    "\n",
    "for score in scores:\n",
    "    if 0 <= score <= 100:\n",
    "        valid_scores.append(score)\n",
    "        # Grade assignment\n",
    "        if score >= 90:\n",
    "            grade_counts[\"A\"] += 1\n",
    "        elif score >= 80:\n",
    "            grade_counts[\"B\"] += 1\n",
    "        elif score >= 70:\n",
    "            grade_counts[\"C\"] += 1\n",
    "        elif score >= 60:\n",
    "            grade_counts[\"D\"] += 1\n",
    "        else:\n",
    "            grade_counts[\"F\"] += 1\n",
    "    else:\n",
    "        invalid_scores.append(score)\n",
    "\n",
    "# Calculate statistics\n",
    "if valid_scores:\n",
    "    average = sum(valid_scores) / len(valid_scores)\n",
    "    print(f\"Valid scores: {len(valid_scores)}\")\n",
    "    print(f\"Invalid scores: {len(invalid_scores)} -> {invalid_scores}\")\n",
    "    print(f\"Average score: {average:.1f}\")\n",
    "    print(f\"Grade distribution: {grade_counts}\")\n",
    "else:\n",
    "    print(\"No valid scores found!\")"
   ]
  },
  {
   "cell_type": "markdown",
   "metadata": {},
   "source": [
    "---\n",
    "\n",
    "## ✅ Self-Assessment Checklist\n",
    "\n",
    "Before moving to the next notebook, make sure you can:\n",
    "\n",
    "- [ ] Write if/elif/else statements for decision making\n",
    "- [ ] Use comparison operators (==, !=, <, >, <=, >=)\n",
    "- [ ] Combine conditions with logical operators (and, or, not)\n",
    "- [ ] Write for loops to iterate over sequences\n",
    "- [ ] Write while loops with proper conditions\n",
    "- [ ] Use the range() function effectively\n",
    "- [ ] Apply break and continue statements appropriately\n",
    "- [ ] Handle different data types in conditional statements\n",
    "\n",
    "**Data Science Connection:** These control structures are essential for:\n",
    "- Data validation and cleaning\n",
    "- Filtering datasets based on conditions\n",
    "- Processing data in batches\n",
    "- Implementing algorithms step by step\n",
    "\n",
    "---\n",
    "\n",
    "## 🚀 What's Next?\n",
    "\n",
    "In the next notebook, you'll learn about:\n",
    "- **Lists**: Storing and manipulating collections of data\n",
    "- **Tuples**: Immutable sequences for structured data\n",
    "- **List comprehensions**: Elegant data processing\n",
    "- **Nested structures**: Working with complex data\n",
    "\n",
    "These data structures are the foundation of data science in Python!"
   ]
  }
 ],
 "metadata": {
  "kernelspec": {
   "display_name": "Python 3 (ipykernel)",
   "language": "python",
   "name": "python3"
  },
  "language_info": {
   "codemirror_mode": {
    "name": "ipython",
    "version": 3
   },
   "file_extension": ".py",
   "mimetype": "text/x-python",
   "name": "python",
   "nbconvert_exporter": "python",
   "pygments_lexer": "ipython3",
   "version": "3.11.0"
  }
 },
 "nbformat": 4,
 "nbformat_minor": 4
}
