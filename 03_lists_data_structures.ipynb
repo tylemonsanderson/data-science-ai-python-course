{
 "cells": [
  {
   "cell_type": "markdown",
   "metadata": {},
   "source": [
    "# Notebook 3: Lists and Basic Data Structures\n",
    "\n",
    "Welcome to your third Python notebook! Now you'll learn about data structures - ways to store and organize multiple pieces of data. This is crucial for data science work.\n",
    "\n",
    "**Learning Objectives:**\n",
    "- Create and manipulate lists\n",
    "- Use indexing and slicing to access data\n",
    "- Understand tuples and their differences from lists\n",
    "- Work with strings as sequences\n",
    "- Apply list methods for data manipulation"
   ]
  },
  {
   "cell_type": "markdown",
   "metadata": {},
   "source": [
    "## Introduction to Lists\n",
    "\n",
    "A list is a collection of items that can be of different types. Lists are one of the most important data structures in Python and data science."
   ]
  },
  {
   "cell_type": "code",
   "execution_count": null,
   "metadata": {},
   "outputs": [],
   "source": [
    "# Creating lists\n",
    "numbers = [1, 2, 3, 4, 5]\n",
    "names = [\"Alice\", \"Bob\", \"Charlie\"]\n",
    "mixed = [1, \"hello\", 3.14, True]\n",
    "empty_list = []\n",
    "\n",
    "print(\"Numbers:\", numbers)\n",
    "print(\"Names:\", names)\n",
    "print(\"Mixed types:\", mixed)\n",
    "print(\"Empty list:\", empty_list)"
   ]
  },
  {
   "cell_type": "markdown",
   "metadata": {},
   "source": [
    "## List Indexing\n",
    "\n",
    "You can access individual items in a list using their index (position). **Important:** Python uses 0-based indexing!"
   ]
  },
  {
   "cell_type": "code",
   "execution_count": null,
   "metadata": {},
   "outputs": [],
   "source": [
    "fruits = [\"apple\", \"banana\", \"cherry\", \"date\", \"elderberry\"]\n",
    "\n",
    "print(\"List:\", fruits)\n",
    "print(\"Length:\", len(fruits))\n",
    "print()\n",
    "\n",
    "# Positive indexing (from the beginning)\n",
    "print(\"First item (index 0):\", fruits[0])\n",
    "print(\"Second item (index 1):\", fruits[1])\n",
    "print(\"Third item (index 2):\", fruits[2])\n",
    "print()\n",
    "\n",
    "# Negative indexing (from the end)\n",
    "print(\"Last item (index -1):\", fruits[-1])\n",
    "print(\"Second to last (index -2):\", fruits[-2])"
   ]
  },
  {
   "cell_type": "markdown",
   "metadata": {},
   "source": [
    "## List Slicing - VERY IMPORTANT for Data Science!\n",
    "\n",
    "Slicing lets you get a portion of a list. This is used extensively in data science notebooks!"
   ]
  },
  {
   "cell_type": "code",
   "execution_count": null,
   "metadata": {},
   "outputs": [],
   "source": [
    "# Sample data (like you'll see in data science)\n",
    "data = [10, 20, 30, 40, 50, 60, 70, 80, 90, 100]\n",
    "print(\"Original data:\", data)\n",
    "print()\n",
    "\n",
    "# Basic slicing: [start:end] (end is not included)\n",
    "print(\"First 3 items [0:3]:\", data[0:3])  # This pattern is used a lot!\n",
    "print(\"Items 2 to 5 [2:5]:\", data[2:5])\n",
    "print(\"Last 3 items [-3:]:\", data[-3:])\n",
    "print()\n",
    "\n",
    "# Slicing shortcuts\n",
    "print(\"First 5 items [:5]:\", data[:5])\n",
    "print(\"From index 3 to end [3:]:\", data[3:])\n",
    "print(\"All items [:]:\", data[:])\n",
    "print()\n",
    "\n",
    "# Step slicing: [start:end:step]\n",
    "print(\"Every 2nd item [::2]:\", data[::2])\n",
    "print(\"Every 3rd item from index 1 [1::3]:\", data[1::3])\n",
    "print(\"Reverse the list [::-1]:\", data[::-1])"
   ]
  },
  {
   "cell_type": "markdown",
   "metadata": {},
   "source": [
    "## Modifying Lists\n",
    "\n",
    "Lists are mutable, meaning you can change their contents:"
   ]
  },
  {
   "cell_type": "code",
   "execution_count": null,
   "metadata": {},
   "outputs": [],
   "source": [
    "# Starting with a list of scores\n",
    "scores = [85, 92, 78, 96, 88]\n",
    "print(\"Original scores:\", scores)\n",
    "\n",
    "# Change a single item\n",
    "scores[2] = 82  # Change the third score\n",
    "print(\"After changing index 2:\", scores)\n",
    "\n",
    "# Change multiple items using slicing\n",
    "scores[1:3] = [90, 85]  # Replace items at index 1 and 2\n",
    "print(\"After changing slice [1:3]:\", scores)"
   ]
  },
  {
   "cell_type": "markdown",
   "metadata": {},
   "source": [
    "## List Methods\n",
    "\n",
    "Lists have many built-in methods for manipulation:"
   ]
  },
  {
   "cell_type": "code",
   "execution_count": null,
   "metadata": {},
   "outputs": [],
   "source": [
    "# Starting with an empty list\n",
    "data_points = []\n",
    "print(\"Starting list:\", data_points)\n",
    "\n",
    "# Adding items\n",
    "data_points.append(10)  # Add one item\n",
    "data_points.append(20)\n",
    "data_points.append(30)\n",
    "print(\"After appending:\", data_points)\n",
    "\n",
    "# Add multiple items\n",
    "data_points.extend([40, 50, 60])\n",
    "print(\"After extending:\", data_points)\n",
    "\n",
    "# Insert at specific position\n",
    "data_points.insert(0, 5)  # Insert 5 at the beginning\n",
    "print(\"After inserting 5 at index 0:\", data_points)"
   ]
  },
  {
   "cell_type": "code",
   "execution_count": null,
   "metadata": {},
   "outputs": [],
   "source": [
    "# Removing items\n",
    "numbers = [1, 2, 3, 2, 4, 2, 5]\n",
    "print(\"Original:\", numbers)\n",
    "\n",
    "# Remove by value (removes first occurrence)\n",
    "numbers.remove(2)\n",
    "print(\"After removing first 2:\", numbers)\n",
    "\n",
    "# Remove by index\n",
    "removed_item = numbers.pop(1)  # Remove item at index 1\n",
    "print(f\"Removed item at index 1: {removed_item}\")\n",
    "print(\"List after pop:\", numbers)\n",
    "\n",
    "# Remove last item\n",
    "last_item = numbers.pop()\n",
    "print(f\"Removed last item: {last_item}\")\n",
    "print(\"Final list:\", numbers)"
   ]
  },
  {
   "cell_type": "markdown",
   "metadata": {},
   "source": [
    "## List Operations and Functions\n",
    "\n",
    "Common operations you'll use in data science:"
   ]
  },
  {
   "cell_type": "code",
   "execution_count": null,
   "metadata": {},
   "outputs": [],
   "source": [
    "# Sample dataset\n",
    "temperatures = [23.5, 25.1, 22.8, 26.3, 24.7, 21.9, 27.2]\n",
    "print(\"Temperatures:\", temperatures)\n",
    "print()\n",
    "\n",
    "# Basic statistics\n",
    "print(f\"Number of readings: {len(temperatures)}\")\n",
    "print(f\"Minimum temperature: {min(temperatures)}\")\n",
    "print(f\"Maximum temperature: {max(temperatures)}\")\n",
    "print(f\"Sum of temperatures: {sum(temperatures)}\")\n",
    "print(f\"Average temperature: {sum(temperatures) / len(temperatures):.2f}\")\n",
    "print()\n",
    "\n",
    "# Sorting (creates a new sorted list)\n",
    "sorted_temps = sorted(temperatures)\n",
    "print(\"Sorted temperatures:\", sorted_temps)\n",
    "print(\"Original (unchanged):\", temperatures)\n",
    "print()\n",
    "\n",
    "# Sort in place (modifies the original list)\n",
    "temperatures.sort()\n",
    "print(\"After sorting in place:\", temperatures)\n",
    "\n",
    "# Reverse\n",
    "temperatures.reverse()\n",
    "print(\"After reversing:\", temperatures)"
   ]
  },
  {
   "cell_type": "markdown",
   "metadata": {},
   "source": [
    "## Working with Lists in Loops\n",
    "\n",
    "This is essential for data processing:"
   ]
  },
  {
   "cell_type": "code",
   "execution_count": null,
   "metadata": {},
   "outputs": [],
   "source": [
    "# Sample data\n",
    "raw_scores = [85, 92, 78, 96, 88, 73, 91]\n",
    "\n",
    "# Method 1: Iterate through values\n",
    "print(\"All scores:\")\n",
    "for score in raw_scores:\n",
    "    print(f\"Score: {score}\")\n",
    "\n",
    "print()\n",
    "\n",
    "# Method 2: Iterate with index (useful for data science)\n",
    "print(\"Scores with position:\")\n",
    "for i in range(len(raw_scores)):\n",
    "    print(f\"Student {i+1}: {raw_scores[i]}\")\n",
    "\n",
    "print()\n",
    "\n",
    "# Method 3: Enumerate (gets both index and value)\n",
    "print(\"Using enumerate:\")\n",
    "for index, score in enumerate(raw_scores):\n",
    "    print(f\"Index {index}: {score}\")"
   ]
  },
  {
   "cell_type": "markdown",
   "metadata": {},
   "source": [
    "## List Comprehensions - Powerful Data Processing!\n",
    "\n",
    "List comprehensions are a concise way to create lists. Very useful in data science!"
   ]
  },
  {
   "cell_type": "code",
   "execution_count": null,
   "metadata": {},
   "outputs": [],
   "source": [
    "# Traditional way to create a list of squares\n",
    "squares_traditional = []\n",
    "for i in range(1, 6):\n",
    "    squares_traditional.append(i ** 2)\n",
    "print(\"Traditional way:\", squares_traditional)\n",
    "\n",
    "# List comprehension way (more concise)\n",
    "squares_comprehension = [i ** 2 for i in range(1, 6)]\n",
    "print(\"List comprehension:\", squares_comprehension)\n",
    "\n",
    "# More examples\n",
    "numbers = [1, 2, 3, 4, 5, 6, 7, 8, 9, 10]\n",
    "\n",
    "# Get even numbers\n",
    "evens = [x for x in numbers if x % 2 == 0]\n",
    "print(\"Even numbers:\", evens)\n",
    "\n",
    "# Convert temperatures from Celsius to Fahrenheit\n",
    "celsius = [0, 20, 30, 40]\n",
    "fahrenheit = [c * 9/5 + 32 for c in celsius]\n",
    "print(\"Celsius:\", celsius)\n",
    "print(\"Fahrenheit:\", fahrenheit)"
   ]
  },
  {
   "cell_type": "markdown",
   "metadata": {},
   "source": [
    "## Tuples - Immutable Sequences\n",
    "\n",
    "Tuples are like lists but cannot be changed after creation:"
   ]
  },
  {
   "cell_type": "code",
   "execution_count": null,
   "metadata": {},
   "outputs": [],
   "source": [
    "# Creating tuples\n",
    "coordinates = (3.5, 7.2)  # x, y coordinates\n",
    "rgb_color = (255, 128, 0)  # Red, Green, Blue values\n",
    "student_info = (\"Alice\", 20, \"Computer Science\")\n",
    "\n",
    "print(\"Coordinates:\", coordinates)\n",
    "print(\"RGB Color:\", rgb_color)\n",
    "print(\"Student Info:\", student_info)\n",
    "print()\n",
    "\n",
    "# Accessing tuple elements (same as lists)\n",
    "print(f\"X coordinate: {coordinates[0]}\")\n",
    "print(f\"Y coordinate: {coordinates[1]}\")\n",
    "print(f\"Student name: {student_info[0]}\")\n",
    "print()\n",
    "\n",
    "# Tuple unpacking (very useful!)\n",
    "x, y = coordinates\n",
    "name, age, major = student_info\n",
    "print(f\"Unpacked coordinates: x={x}, y={y}\")\n",
    "print(f\"Unpacked student: {name}, {age} years old, studying {major}\")"
   ]
  },
  {
   "cell_type": "markdown",
   "metadata": {},
   "source": [
    "## Strings as Sequences\n",
    "\n",
    "Strings behave like lists of characters:"
   ]
  },
  {
   "cell_type": "code",
   "execution_count": null,
   "metadata": {},
   "outputs": [],
   "source": [
    "text = \"Data Science\"\n",
    "print(f\"Text: '{text}'\")\n",
    "print(f\"Length: {len(text)}\")\n",
    "print()\n",
    "\n",
    "# Indexing\n",
    "print(f\"First character: '{text[0]}'\")\n",
    "print(f\"Last character: '{text[-1]}'\")\n",
    "print()\n",
    "\n",
    "# Slicing\n",
    "print(f\"First 4 characters: '{text[0:4]}'\")\n",
    "print(f\"Last 7 characters: '{text[-7:]}'\")\n",
    "print(f\"Every 2nd character: '{text[::2]}'\")\n",
    "print()\n",
    "\n",
    "# String methods\n",
    "print(f\"Uppercase: '{text.upper()}'\")\n",
    "print(f\"Replace 'Data' with 'Machine': '{text.replace('Data', 'Machine')}'\")\n",
    "print(f\"Split into words: {text.split()}\")"
   ]
  },
  {
   "cell_type": "markdown",
   "metadata": {},
   "source": [
    "## Nested Lists - Multi-dimensional Data\n",
    "\n",
    "Lists can contain other lists, creating multi-dimensional structures:"
   ]
  },
  {
   "cell_type": "code",
   "execution_count": null,
   "metadata": {},
   "outputs": [],
   "source": [
    "# A simple 2D dataset (like a spreadsheet)\n",
    "student_grades = [\n",
    "    [\"Alice\", 85, 92, 78],\n",
    "    [\"Bob\", 79, 88, 91],\n",
    "    [\"Charlie\", 92, 85, 87]\n",
    "]\n",
    "\n",
    "print(\"Student grades:\")\n",
    "for row in student_grades:\n",
    "    print(row)\n",
    "print()\n",
    "\n",
    "# Accessing nested data\n",
    "print(f\"First student: {student_grades[0]}\")\n",
    "print(f\"First student's name: {student_grades[0][0]}\")\n",
    "print(f\"First student's first grade: {student_grades[0][1]}\")\n",
    "print()\n",
    "\n",
    "# Processing nested data\n",
    "print(\"Student averages:\")\n",
    "for student in student_grades:\n",
    "    name = student[0]\n",
    "    grades = student[1:]  # All grades (excluding name)\n",
    "    average = sum(grades) / len(grades)\n",
    "    print(f\"{name}: {average:.1f}\")"
   ]
  },
  {
   "cell_type": "markdown",
   "metadata": {},
   "source": [
    "## Practice Exercises\n",
    "\n",
    "These exercises will prepare you for data science work:"
   ]
  },
  {
   "cell_type": "markdown",
   "metadata": {},
   "source": [
    "### Exercise 1: Data Filtering\n",
    "Given a list of temperatures, create a new list with only temperatures above 25°C."
   ]
  },
  {
   "cell_type": "code",
   "execution_count": null,
   "metadata": {},
   "outputs": [],
   "source": [
    "temperatures = [23.1, 26.5, 22.8, 27.3, 24.9, 28.1, 21.7, 25.4, 29.2]\n",
    "\n",
    "# Method 1: Using a loop\n",
    "hot_temps_loop = []\n",
    "for temp in temperatures:\n",
    "    # Your code here\n",
    "    pass\n",
    "\n",
    "# Method 2: Using list comprehension\n",
    "hot_temps_comprehension = []  # Your code here\n",
    "\n",
    "print(f\"Original temperatures: {temperatures}\")\n",
    "print(f\"Hot temperatures (loop): {hot_temps_loop}\")\n",
    "print(f\"Hot temperatures (comprehension): {hot_temps_comprehension}\")"
   ]
  },
  {
   "cell_type": "markdown",
   "metadata": {},
   "source": [
    "### Exercise 2: Data Slicing Practice\n",
    "Practice the slicing operations you'll see in data science notebooks."
   ]
  },
  {
   "cell_type": "code",
   "execution_count": null,
   "metadata": {},
   "outputs": [],
   "source": [
    "# Sample dataset (like X in machine learning)\n",
    "X = [10, 20, 30, 40, 50, 60, 70, 80, 90, 100]\n",
    "\n",
    "print(f\"Original data X: {X}\")\n",
    "\n",
    "# Practice these common slicing patterns:\n",
    "print(f\"First 3 items X[0:3]: {X[0:3]}\")  # Very common in ML notebooks!\n",
    "print(f\"Items 2 to 5 X[2:5]: {X[2:5]}\")\n",
    "print(f\"Last 3 items X[-3:]: {X[-3:]}\")\n",
    "print(f\"Every other item X[::2]: {X[::2]}\")\n",
    "\n",
    "# Your turn - try these:\n",
    "# Get items from index 1 to 4\n",
    "# Get the middle 4 items\n",
    "# Get every 3rd item starting from index 1"
   ]
  },
  {
   "cell_type": "markdown",
   "metadata": {},
   "source": [
    "### Exercise 3: Basic Data Analysis\n",
    "Analyze a dataset of sales figures."
   ]
  },
  {
   "cell_type": "code",
   "execution_count": null,
   "metadata": {},
   "outputs": [],
   "source": [
    "# Monthly sales data\n",
    "sales = [12500, 13200, 11800, 14500, 13900, 15200, 14800, 13600, 12900, 14100, 15500, 16200]\n",
    "months = [\"Jan\", \"Feb\", \"Mar\", \"Apr\", \"May\", \"Jun\", \n",
    "          \"Jul\", \"Aug\", \"Sep\", \"Oct\", \"Nov\", \"Dec\"]\n",
    "\n",
    "print(\"Monthly Sales Analysis\")\n",
    "print(\"=\" * 25)\n",
    "\n",
    "# Basic statistics\n",
    "total_sales = sum(sales)\n",
    "average_sales = total_sales / len(sales)\n",
    "min_sales = min(sales)\n",
    "max_sales = max(sales)\n",
    "\n",
    "print(f\"Total sales: ${total_sales:,}\")\n",
    "print(f\"Average monthly sales: ${average_sales:,.0f}\")\n",
    "print(f\"Minimum sales: ${min_sales:,}\")\n",
    "print(f\"Maximum sales: ${max_sales:,}\")\n",
    "print()\n",
    "\n",
    "# Find which months had min and max sales\n",
    "min_month_index = sales.index(min_sales)\n",
    "max_month_index = sales.index(max_sales)\n",
    "\n",
    "print(f\"Lowest sales month: {months[min_month_index]} (${min_sales:,})\")\n",
    "print(f\"Highest sales month: {months[max_month_index]} (${max_sales:,})\")\n",
    "print()\n",
    "\n",
    "# Find months with above-average sales\n",
    "above_average_months = []\n",
    "for i, sale in enumerate(sales):\n",
    "    if sale > average_sales:\n",
    "        above_average_months.append(months[i])\n",
    "\n",
    "print(f\"Months with above-average sales: {above_average_months}\")"
   ]
  },
  {
   "cell_type": "markdown",
   "metadata": {},
   "source": [
    "### Exercise 4: Data Transformation\n",
    "Convert raw data into a more useful format."
   ]
  },
  {
   "cell_type": "code",
   "execution_count": null,
   "metadata": {},
   "outputs": [],
   "source": [
    "# Raw survey data: [age, satisfaction_score, years_experience]\n",
    "survey_data = [\n",
    "    [25, 8, 2],\n",
    "    [32, 7, 8],\n",
    "    [28, 9, 4],\n",
    "    [45, 6, 15],\n",
    "    [23, 8, 1],\n",
    "    [38, 7, 12]\n",
    "]\n",
    "\n",
    "print(\"Raw survey data:\")\n",
    "for i, person in enumerate(survey_data):\n",
    "    print(f\"Person {i+1}: Age={person[0]}, Satisfaction={person[1]}, Experience={person[2]}\")\n",
    "print()\n",
    "\n",
    "# Extract individual columns (like you'll do in data science)\n",
    "ages = [person[0] for person in survey_data]\n",
    "satisfaction_scores = [person[1] for person in survey_data]\n",
    "experience_years = [person[2] for person in survey_data]\n",
    "\n",
    "print(f\"Ages: {ages}\")\n",
    "print(f\"Satisfaction scores: {satisfaction_scores}\")\n",
    "print(f\"Years of experience: {experience_years}\")\n",
    "print()\n",
    "\n",
    "# Calculate statistics for each column\n",
    "print(\"Statistics:\")\n",
    "print(f\"Average age: {sum(ages) / len(ages):.1f}\")\n",
    "print(f\"Average satisfaction: {sum(satisfaction_scores) / len(satisfaction_scores):.1f}\")\n",
    "print(f\"Average experience: {sum(experience_years) / len(experience_years):.1f}\")"
   ]
  },
  {
   "cell_type": "markdown",
   "metadata": {},
   "source": [
    "## Key Takeaways\n",
    "\n",
    "1. **Lists** are ordered, mutable collections - fundamental to data science\n",
    "2. **Indexing** starts at 0, negative indices count from the end\n",
    "3. **Slicing** [start:end:step] is crucial - you'll see X[0:3] patterns everywhere in ML\n",
    "4. **List methods** like append(), extend(), remove() help manipulate data\n",
    "5. **List comprehensions** provide concise ways to transform data\n",
    "6. **Tuples** are immutable and good for fixed data like coordinates\n",
    "7. **Nested lists** represent multi-dimensional data like spreadsheets\n",
    "8. **String slicing** works the same as list slicing\n",
    "\n",
    "These concepts are essential for data science. You'll use list slicing, indexing, and comprehensions constantly when working with datasets. In the next notebook, we'll learn about dictionaries and more advanced data manipulation techniques."
   ]
  },
  {
   "cell_type": "markdown",
   "metadata": {},
   "source": [
    "---\n",
    "\n",
    "## 🔧 Common Errors and Troubleshooting\n",
    "\n",
    "Learning to debug is a crucial skill in data science! Here are common errors you might encounter:\n",
    "\n",
    "### IndexError: list index out of range\n",
    "**What it means:** You're trying to access a position that doesn't exist"
   ]
  },
  {
   "cell_type": "code",
   "execution_count": null,
   "metadata": {},
   "outputs": [],
   "source": [
    "# Common Error Examples - Understanding and Fixing Them\n",
    "\n",
    "# 1. IndexError - Trying to access non-existent index\n",
    "data = [10, 20, 30]\n",
    "print(f\"List length: {len(data)}\")\n",
    "print(f\"Last valid index: {len(data) - 1}\")\n",
    "\n",
    "# This would cause an error: print(data[3])\n",
    "# Fix: Check list length first\n",
    "if len(data) > 3:\n",
    "    print(data[3])\n",
    "else:\n",
    "    print(\"Index 3 doesn't exist in this list\")\n",
    "\n",
    "# 2. ValueError - Wrong value type\n",
    "numbers = [\"1\", \"2\", \"three\", \"4\"]\n",
    "converted = []\n",
    "for item in numbers:\n",
    "    try:\n",
    "        converted.append(int(item))\n",
    "    except ValueError:\n",
    "        print(f\"'{item}' cannot be converted to integer\")\n",
    "        converted.append(0)  # or handle as needed\n",
    "        \n",
    "print(f\"Converted numbers: {converted}\")\n",
    "\n",
    "# 3. Safe list operations\n",
    "def safe_get_item(lst, index, default=None):\n",
    "    \"\"\"Safely get an item from a list\"\"\"\n",
    "    if 0 <= index < len(lst):\n",
    "        return lst[index]\n",
    "    return default\n",
    "\n",
    "# Example usage\n",
    "temperatures = [23.5, 25.1, 22.8]\n",
    "print(f\"Temperature at index 1: {safe_get_item(temperatures, 1)}\")\n",
    "print(f\"Temperature at index 10: {safe_get_item(temperatures, 10, 'Not available')}\")"
   ]
  },
  {
   "cell_type": "markdown",
   "metadata": {},
   "source": [
    "---\n",
    "\n",
    "## 📝 Mini-Challenge: Real Data Processing\n",
    "\n",
    "### Challenge 1: Student Grade Analyzer\n",
    "You have a list of student scores. Create a program that:\n",
    "1. Calculates basic statistics (min, max, average)\n",
    "2. Finds students above/below average\n",
    "3. Creates a grade distribution\n",
    "4. Identifies outliers (scores very far from average)"
   ]
  },
  {
   "cell_type": "code",
   "execution_count": null,
   "metadata": {},
   "outputs": [],
   "source": [
    "# Challenge 1: Student Grade Analyzer\n",
    "student_scores = [88, 92, 76, 85, 98, 73, 89, 91, 45, 87, 94, 82, 78, 96, 88, 85, 90, 83, 79, 86]\n",
    "\n",
    "# 1. Basic statistics\n",
    "min_score = min(student_scores)\n",
    "max_score = max(student_scores)\n",
    "average_score = sum(student_scores) / len(student_scores)\n",
    "\n",
    "print(f\"=== GRADE ANALYSIS ===\")\n",
    "print(f\"Total students: {len(student_scores)}\")\n",
    "print(f\"Min score: {min_score}\")\n",
    "print(f\"Max score: {max_score}\")\n",
    "print(f\"Average score: {average_score:.1f}\")\n",
    "\n",
    "# 2. Above/below average\n",
    "above_average = [score for score in student_scores if score > average_score]\n",
    "below_average = [score for score in student_scores if score < average_score]\n",
    "\n",
    "print(f\"\\nAbove average ({len(above_average)} students): {above_average}\")\n",
    "print(f\"Below average ({len(below_average)} students): {below_average}\")\n",
    "\n",
    "# 3. Grade distribution\n",
    "grades = {\"A\": 0, \"B\": 0, \"C\": 0, \"D\": 0, \"F\": 0}\n",
    "for score in student_scores:\n",
    "    if score >= 90:\n",
    "        grades[\"A\"] += 1\n",
    "    elif score >= 80:\n",
    "        grades[\"B\"] += 1\n",
    "    elif score >= 70:\n",
    "        grades[\"C\"] += 1\n",
    "    elif score >= 60:\n",
    "        grades[\"D\"] += 1\n",
    "    else:\n",
    "        grades[\"F\"] += 1\n",
    "\n",
    "print(f\"\\nGrade Distribution: {grades}\")\n",
    "\n",
    "# 4. Outliers (scores more than 20 points from average)\n",
    "outliers = [score for score in student_scores if abs(score - average_score) > 20]\n",
    "print(f\"\\nOutliers (>20 points from average): {outliers}\")"
   ]
  },
  {
   "cell_type": "markdown",
   "metadata": {},
   "source": [
    "---\n",
    "\n",
    "## ✅ Self-Assessment Checklist\n",
    "\n",
    "Before moving to the next notebook, make sure you can:\n",
    "\n",
    "**Lists:**\n",
    "- [ ] Create lists and access elements by index\n",
    "- [ ] Use negative indexing to access elements from the end\n",
    "- [ ] Slice lists to get subsequences\n",
    "- [ ] Add and remove elements (append, insert, remove, pop)\n",
    "- [ ] Find the length of a list and check if items exist\n",
    "\n",
    "**Tuples:**\n",
    "- [ ] Create tuples and understand their immutability\n",
    "- [ ] Use tuples for structured data (coordinates, records)\n",
    "- [ ] Unpack tuples into variables\n",
    "\n",
    "**Advanced Techniques:**\n",
    "- [ ] Write list comprehensions for data transformation\n",
    "- [ ] Handle nested lists and complex data structures\n",
    "- [ ] Use built-in functions (min, max, sum, sorted)\n",
    "- [ ] Debug common list errors (IndexError, ValueError)\n",
    "\n",
    "**Data Science Connection:** These skills are essential for:\n",
    "- Processing datasets row by row\n",
    "- Filtering and transforming data\n",
    "- Extracting specific information from complex data structures\n",
    "- Preparing data for analysis\n",
    "\n",
    "---\n",
    "\n",
    "## 🚀 What's Next?\n",
    "\n",
    "In the next notebook, you'll learn about:\n",
    "- **Dictionaries**: Key-value pairs for structured data\n",
    "- **Data organization**: Grouping and categorizing information\n",
    "- **JSON data**: Working with real-world data formats\n",
    "- **Advanced data manipulation**: Combining lists and dictionaries\n",
    "\n",
    "These skills will prepare you to work with real datasets!"
   ]
  }
 ],
 "metadata": {
  "kernelspec": {
   "display_name": "Python 3 (ipykernel)",
   "language": "python",
   "name": "python3"
  },
  "language_info": {
   "codemirror_mode": {
    "name": "ipython",
    "version": 3
   },
   "file_extension": ".py",
   "mimetype": "text/x-python",
   "name": "python",
   "nbconvert_exporter": "python",
   "pygments_lexer": "ipython3",
   "version": "3.11.0"
  }
 },
 "nbformat": 4,
 "nbformat_minor": 4
}
