{
  "cells": [
    {
      "cell_type": "markdown",
      "metadata": {},
      "source": [
        "# Notebook 5: Functions and Modules\n",
        "\n",
        "Welcome to your fifth Python notebook! Now you'll learn how to organize your code using functions and modules - essential skills for writing clean, reusable data science code.\n",
        "\n",
        "**Learning Objectives:**\n",
        "- Define and call functions\n",
        "- Use parameters and return values\n",
        "- Understand variable scope\n",
        "- Import and use modules\n",
        "- Apply functions to data science problems"
      ]
    },
    {
      "cell_type": "markdown",
      "metadata": {},
      "source": [
        "## Basic Function Definition\n",
        "\n",
        "A function is a block of reusable code that performs a specific task:"
      ]
    },
    {
      "cell_type": "code",
      "execution_count": 1,
      "metadata": {},
      "outputs": [
        {
          "name": "stdout",
          "output_type": "stream",
          "text": [
            "Hello, Data Scientist!\n",
            "Hello, Data Scientist!\n"
          ]
        }
      ],
      "source": [
        "# Simple function with no parameters\n",
        "def greet():\n",
        "    print(\"Hello, Data Scientist!\")\n",
        "\n",
        "# Call the function\n",
        "greet()\n",
        "greet()  # Can call multiple times"
      ]
    },
    {
      "cell_type": "markdown",
      "metadata": {},
      "source": [
        "## Functions with Parameters and Return Values\n",
        "\n",
        "Functions become powerful when they can accept input and return output:"
      ]
    },
    {
      "cell_type": "code",
      "execution_count": 2,
      "metadata": {},
      "outputs": [
        {
          "name": "stdout",
          "output_type": "stream",
          "text": [
            "Average score: 87.8\n",
            "Dataset: [85, 92, 78, 96, 88]\n",
            "count: 5\n",
            "min: 78\n",
            "max: 96\n",
            "avg: 87.8\n"
          ]
        }
      ],
      "source": [
        "# Function that returns a value - essential for data science!\n",
        "def calculate_average(numbers):\n",
        "    \"\"\"Calculate the average of a list of numbers.\"\"\"\n",
        "    if len(numbers) == 0:\n",
        "        return 0\n",
        "    return sum(numbers) / len(numbers)\n",
        "\n",
        "# Test with real data science scenario\n",
        "student_scores = [85, 92, 78, 96, 88]\n",
        "avg_score = calculate_average(student_scores)\n",
        "print(f\"Average score: {avg_score:.1f}\")\n",
        "\n",
        "# Function with multiple parameters\n",
        "def analyze_data(data, show_details=False):\n",
        "    \"\"\"Analyze a dataset and optionally show details.\"\"\"\n",
        "    result = {\n",
        "        'count': len(data),\n",
        "        'min': min(data) if data else 0,\n",
        "        'max': max(data) if data else 0,\n",
        "        'avg': calculate_average(data)\n",
        "    }\n",
        "    \n",
        "    if show_details:\n",
        "        print(f\"Dataset: {data}\")\n",
        "        for key, value in result.items():\n",
        "            print(f\"{key}: {value}\")\n",
        "    \n",
        "    return result\n",
        "\n",
        "# This pattern is common in ML notebooks!\n",
        "analysis = analyze_data(student_scores, show_details=True)"
      ]
    },
    {
      "cell_type": "markdown",
      "metadata": {},
      "source": [
        "## Modules and Imports - Essential for Data Science\n",
        "\n",
        "Understanding imports is crucial because every data science notebook starts with them!"
      ]
    },
    {
      "cell_type": "code",
      "execution_count": 3,
      "metadata": {},
      "outputs": [
        {
          "name": "stdout",
          "output_type": "stream",
          "text": [
            "Using math module:\n",
            "Original: [1, 4, 9, 16, 25]\n",
            "Square roots: [1.0, 2.0, 3.0, 4.0, 5.0]\n",
            "\n",
            "Random examples:\n",
            "Random sample of 3: [1, 25, 9]\n",
            "\n",
            "Using imported functions directly:\n",
            "sqrt(16) = 4.0\n",
            "pi = 3.1416\n"
          ]
        }
      ],
      "source": [
        "# These are the imports you'll see in EVERY data science notebook!\n",
        "import math\n",
        "import random\n",
        "\n",
        "# The \"Big 3\" data science imports (you'll learn these next!)\n",
        "# import numpy as np              # Coming in next notebook!\n",
        "# import matplotlib.pyplot as plt # Coming soon!\n",
        "# import pandas as pd             # Most popular data manipulation library\n",
        "\n",
        "# Using built-in modules\n",
        "print(\"Using math module:\")\n",
        "data = [1, 4, 9, 16, 25]\n",
        "sqrt_data = [math.sqrt(x) for x in data]\n",
        "print(f\"Original: {data}\")\n",
        "print(f\"Square roots: {sqrt_data}\")\n",
        "\n",
        "# Random numbers - used a lot in ML for data splitting\n",
        "print(f\"\\nRandom examples:\")\n",
        "random.seed(42)  # For reproducible results\n",
        "random_sample = random.sample(data, 3)\n",
        "print(f\"Random sample of 3: {random_sample}\")\n",
        "\n",
        "# Import specific functions\n",
        "from math import sqrt, pi\n",
        "print(f\"\\nUsing imported functions directly:\")\n",
        "print(f\"sqrt(16) = {sqrt(16)}\")\n",
        "print(f\"pi = {pi:.4f}\")"
      ]
    },
    {
      "cell_type": "markdown",
      "metadata": {},
      "source": [
        "---\n",
        "\n",
        "## 🔧 Common Function Errors and Troubleshooting\n",
        "\n",
        "Understanding errors helps you become a better programmer!"
      ]
    },
    {
      "cell_type": "code",
      "execution_count": 3,
      "metadata": {},
      "outputs": [
        {
          "name": "stdout",
          "output_type": "stream",
          "text": [
            "BMI: 22.9\n",
            "10 / 2 = 5.0\n",
            "Warning: Cannot divide 10 by zero\n",
            "10 / 0 = None\n",
            "Valid data: {'count': 4, 'average': 87.75, 'min': 78, 'max': 96, 'range': 18}\n",
            "Invalid data: {'error': 'All scores must be numbers'}\n",
            "Empty data: {'error': 'No scores provided'}\n"
          ]
        }
      ],
      "source": [
        "# Common Function Errors - Learn to Fix Them!\n",
        "\n",
        "# 1. NameError - Function not defined or called before definition\n",
        "def demonstrate_name_error():\n",
        "    print(\"This function is properly defined\")\n",
        "    \n",
        "# This would cause error: undefined_function()\n",
        "# Fix: Make sure function is defined before calling\n",
        "\n",
        "# 2. TypeError - Wrong number of arguments\n",
        "def calculate_bmi(weight, height):\n",
        "    \"\"\"Calculate BMI given weight (kg) and height (m)\"\"\"\n",
        "    return weight / (height ** 2)\n",
        "\n",
        "# This works:\n",
        "bmi = calculate_bmi(70, 1.75)\n",
        "print(f\"BMI: {bmi:.1f}\")\n",
        "\n",
        "# This would cause error: calculate_bmi(70)  # Missing height argument\n",
        "# Fix: Provide all required arguments or use default parameters\n",
        "\n",
        "# 3. Better function with error handling\n",
        "def safe_divide(a, b):\n",
        "    \"\"\"Safely divide two numbers\"\"\"\n",
        "    if b == 0:\n",
        "        print(f\"Warning: Cannot divide {a} by zero\")\n",
        "        return None\n",
        "    return a / b\n",
        "\n",
        "# Test with different scenarios\n",
        "print(f\"10 / 2 = {safe_divide(10, 2)}\")\n",
        "print(f\"10 / 0 = {safe_divide(10, 0)}\")\n",
        "\n",
        "# 4. Function with input validation - common in data science\n",
        "def analyze_scores(scores):\n",
        "    \"\"\"Analyze test scores with validation\"\"\"\n",
        "    # Input validation\n",
        "    if not scores:\n",
        "        return {\"error\": \"No scores provided\"}\n",
        "    \n",
        "    if not all(isinstance(score, (int, float)) for score in scores):\n",
        "        return {\"error\": \"All scores must be numbers\"}\n",
        "    \n",
        "    # Analysis\n",
        "    return {\n",
        "        \"count\": len(scores),\n",
        "        \"average\": sum(scores) / len(scores),\n",
        "        \"min\": min(scores),\n",
        "        \"max\": max(scores),\n",
        "        \"range\": max(scores) - min(scores)\n",
        "    }\n",
        "\n",
        "# Test with valid and invalid data\n",
        "print(\"Valid data:\", analyze_scores([85, 92, 78, 96]))\n",
        "print(\"Invalid data:\", analyze_scores([85, \"invalid\", 78]))\n",
        "print(\"Empty data:\", analyze_scores([]))"
      ]
    },
    {
      "cell_type": "markdown",
      "metadata": {},
      "source": [
        "---\n",
        "\n",
        "## 📝 Mini-Challenge: Build Your Data Science Toolkit\n",
        "\n",
        "### Challenge 1: Temperature Converter\n",
        "Create functions that data scientists use when working with international temperature data:"
      ]
    },
    {
      "cell_type": "code",
      "execution_count": 5,
      "metadata": {},
      "outputs": [
        {
          "name": "stdout",
          "output_type": "stream",
          "text": [
            "=== TEMPERATURE ANALYSIS ===\n",
            "Celsius data: {'count': 5, 'average_c': 23.0, 'min_c': 18, 'max_c': 30, 'average_f': 73.4, 'min_f': 64.4, 'max_f': 86.0}\n",
            "\n",
            "Fahrenheit data: {'count': 5, 'average_c': 23.0, 'min_c': 17.77777777777778, 'max_c': 30.0, 'average_f': 73.4, 'min_f': 64.0, 'max_f': 86.0}\n"
          ]
        }
      ],
      "source": [
        "# Challenge 1: Temperature Converter Functions\n",
        "\n",
        "def celsius_to_fahrenheit(celsius):\n",
        "    \"\"\"Convert Celsius to Fahrenheit\"\"\"\n",
        "    return (celsius * 9/5) + 32\n",
        "\n",
        "def fahrenheit_to_celsius(fahrenheit):\n",
        "    \"\"\"Convert Fahrenheit to Celsius\"\"\"\n",
        "    return (fahrenheit - 32) * 5/9\n",
        "\n",
        "def analyze_temperature_data(temperatures, unit=\"celsius\"):\n",
        "    \"\"\"Analyze a list of temperatures\"\"\"\n",
        "    if unit.lower() == \"fahrenheit\":\n",
        "        # Convert to Celsius for analysis\n",
        "        celsius_temps = [fahrenheit_to_celsius(temp) for temp in temperatures]\n",
        "    else:\n",
        "        celsius_temps = temperatures\n",
        "    \n",
        "    analysis = {\n",
        "        \"count\": len(celsius_temps),\n",
        "        \"average_c\": sum(celsius_temps) / len(celsius_temps),\n",
        "        \"min_c\": min(celsius_temps),\n",
        "        \"max_c\": max(celsius_temps)\n",
        "    }\n",
        "    \n",
        "    # Add Fahrenheit equivalents\n",
        "    analysis[\"average_f\"] = celsius_to_fahrenheit(analysis[\"average_c\"])\n",
        "    analysis[\"min_f\"] = celsius_to_fahrenheit(analysis[\"min_c\"])\n",
        "    analysis[\"max_f\"] = celsius_to_fahrenheit(analysis[\"max_c\"])\n",
        "    \n",
        "    return analysis\n",
        "\n",
        "# Test your functions\n",
        "cities_temp_c = [20, 25, 18, 30, 22]  # Celsius\n",
        "cities_temp_f = [68, 77, 64, 86, 72]  # Fahrenheit\n",
        "\n",
        "print(\"=== TEMPERATURE ANALYSIS ===\")\n",
        "print(\"Celsius data:\", analyze_temperature_data(cities_temp_c, \"celsius\"))\n",
        "print(\"\\nFahrenheit data:\", analyze_temperature_data(cities_temp_f, \"fahrenheit\"))"
      ]
    },
    {
      "cell_type": "markdown",
      "metadata": {},
      "source": [
        "### Challenge 2: Data Cleaning Function\n",
        "Create a function that cleans messy data - a common task in data science:"
      ]
    },
    {
      "cell_type": "code",
      "execution_count": 6,
      "metadata": {},
      "outputs": [
        {
          "name": "stdout",
          "output_type": "stream",
          "text": [
            "=== DATA CLEANING REPORT ===\n",
            "Original data: [85, '92', 78.5, '96', '', None, 'invalid', 88, '85.5', '   90   ']\n",
            "Cleaned numbers: [85.0, 92.0, 78.5, 96.0, 88.0, 85.5, 90.0]\n",
            "Invalid items: ['empty string', None, 'invalid']\n",
            "Success rate: 70.0%\n",
            "Average of cleaned data: 87.9\n"
          ]
        }
      ],
      "source": [
        "# Challenge 2: Data Cleaning Function\n",
        "def clean_numeric_data(raw_data):\n",
        "    \"\"\"\n",
        "    Clean a list of mixed data types and extract valid numbers\n",
        "    Returns: dictionary with cleaned data and cleaning report\n",
        "    \"\"\"\n",
        "    cleaned_numbers = []\n",
        "    invalid_items = []\n",
        "    \n",
        "    for item in raw_data:\n",
        "        try:\n",
        "            # Try to convert to float\n",
        "            if isinstance(item, str):\n",
        "                item = item.strip()  # Remove whitespace\n",
        "                if item == '':\n",
        "                    invalid_items.append(\"empty string\")\n",
        "                    continue\n",
        "            \n",
        "            number = float(item)\n",
        "            cleaned_numbers.append(number)\n",
        "        except (ValueError, TypeError):\n",
        "            invalid_items.append(item)\n",
        "    \n",
        "    # Generate cleaning report\n",
        "    report = {\n",
        "        \"original_count\": len(raw_data),\n",
        "        \"cleaned_count\": len(cleaned_numbers),\n",
        "        \"invalid_count\": len(invalid_items),\n",
        "        \"cleaned_data\": cleaned_numbers,\n",
        "        \"invalid_items\": invalid_items,\n",
        "        \"success_rate\": len(cleaned_numbers) / len(raw_data) * 100 if raw_data else 0\n",
        "    }\n",
        "    \n",
        "    return report\n",
        "\n",
        "# Test with messy data (common in real datasets!)\n",
        "messy_data = [85, \"92\", 78.5, \"96\", \"\", None, \"invalid\", 88, \"85.5\", \"   90   \"]\n",
        "\n",
        "cleaning_result = clean_numeric_data(messy_data)\n",
        "\n",
        "print(\"=== DATA CLEANING REPORT ===\")\n",
        "print(f\"Original data: {messy_data}\")\n",
        "print(f\"Cleaned numbers: {cleaning_result['cleaned_data']}\")\n",
        "print(f\"Invalid items: {cleaning_result['invalid_items']}\")\n",
        "print(f\"Success rate: {cleaning_result['success_rate']:.1f}%\")\n",
        "\n",
        "# Use the cleaned data for analysis\n",
        "if cleaning_result['cleaned_data']:\n",
        "    avg = sum(cleaning_result['cleaned_data']) / len(cleaning_result['cleaned_data'])\n",
        "    print(f\"Average of cleaned data: {avg:.1f}\")"
      ]
    },
    {
      "cell_type": "markdown",
      "metadata": {},
      "source": [
        "---\n",
        "\n",
        "## ✅ Self-Assessment Checklist\n",
        "\n",
        "Before moving to the next notebook, make sure you can:\n",
        "\n",
        "**Function Basics:**\n",
        "- [ ] Define functions with `def` keyword\n",
        "- [ ] Call functions and understand return values\n",
        "- [ ] Use parameters and default values\n",
        "- [ ] Write docstrings to document functions\n",
        "- [ ] Handle errors in functions gracefully\n",
        "\n",
        "**Module Usage:**\n",
        "- [ ] Import built-in modules (math, random, etc.)\n",
        "- [ ] Use different import styles (import, from...import, as)\n",
        "- [ ] Understand when to use each import style\n",
        "- [ ] Know the standard data science imports\n",
        "\n",
        "**Data Science Applications:**\n",
        "- [ ] Write functions for data cleaning and validation\n",
        "- [ ] Create reusable analysis functions\n",
        "- [ ] Handle different data types in functions\n",
        "- [ ] Debug common function errors\n",
        "\n",
        "**Best Practices:**\n",
        "- [ ] Use meaningful function and parameter names\n",
        "- [ ] Keep functions focused on single tasks\n",
        "- [ ] Add error handling where appropriate\n",
        "- [ ] Test functions with different inputs\n",
        "\n",
        "**Data Science Connection:** Functions are essential for:\n",
        "- Creating reusable analysis workflows\n",
        "- Cleaning and validating data consistently\n",
        "- Building custom calculations and transformations\n",
        "- Organizing complex data science projects\n",
        "- Making your code readable and maintainable\n",
        "\n",
        "---\n",
        "\n",
        "## 🚀 What's Next?\n",
        "\n",
        "In the next notebook, you'll learn about:\n",
        "- **NumPy**: The foundation of scientific computing in Python\n",
        "- **Arrays**: Efficient numerical operations on large datasets\n",
        "- **Mathematical functions**: Statistical and mathematical operations\n",
        "- **Performance**: Why NumPy is faster than pure Python\n",
        "\n",
        "NumPy is the building block for pandas, matplotlib, and most ML libraries!"
      ]
    }
  ],
  "metadata": {
    "kernelspec": {
      "display_name": "venv",
      "language": "python",
      "name": "python3"
    },
    "language_info": {
      "codemirror_mode": {
        "name": "ipython",
        "version": 3
      },
      "file_extension": ".py",
      "mimetype": "text/x-python",
      "name": "python",
      "nbconvert_exporter": "python",
      "pygments_lexer": "ipython3",
      "version": "3.11.5"
    }
  },
  "nbformat": 4,
  "nbformat_minor": 4
}
