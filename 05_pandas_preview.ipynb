{
 "cells": [
  {
   "cell_type": "markdown",
   "id": "3a9dc6b2",
   "metadata": {},
   "source": [
    "# Notebook 5: Pandas Preview - Your First Taste of Data Science\n",
    "\n",
    "**Duration:** 15 minutes  \n",
    "**Goal:** Get a sneak peek at the most important data science library without overwhelming complexity\n",
    "\n",
    "**Why This Matters:**\n",
    "You'll understand what DataFrames are and why they're everywhere in data science. This preview prepares you to recognize pandas patterns in advanced ML notebooks.\n",
    "\n",
    "**What You'll Learn:**\n",
    "- Reading CSV files (`pd.read_csv()`)\n",
    "- Basic DataFrame operations\n",
    "- Column selection and filtering\n",
    "- Why pandas is the data scientist's best friend"
   ]
  },
  {
   "cell_type": "markdown",
   "id": "108f95df",
   "metadata": {},
   "source": [
    "## What is Pandas?\n",
    "\n",
    "Pandas is THE library for data manipulation in Python. If NumPy is the foundation, pandas is the main tool data scientists use daily.\n",
    "\n",
    "**Why pandas is everywhere:**\n",
    "- Works with spreadsheet-like data (rows and columns)\n",
    "- Reads/writes CSV, Excel, JSON files easily\n",
    "- Handles missing data gracefully\n",
    "- Built on top of NumPy"
   ]
  },
  {
   "cell_type": "code",
   "execution_count": 2,
   "id": "8c5a0187",
   "metadata": {},
   "outputs": [
    {
     "name": "stdout",
     "output_type": "stream",
     "text": [
      "✅ Pandas version: 2.3.0\n",
      "Pandas imported successfully!\n",
      "\n",
      "Sample DataFrame:\n",
      "      name  age  score      city\n",
      "0    Alice   25     85  New York\n",
      "1      Bob   30     92    London\n",
      "2  Charlie   35     78     Paris\n",
      "3    Diana   28     96     Tokyo\n",
      "4      Eve   32     88    Berlin\n"
     ]
    }
   ],
   "source": [
    "# The standard pandas import - you'll see this in EVERY data science notebook!\n",
    "import pandas as pd\n",
    "import numpy as np\n",
    "\n",
    "print(f\"✅ Pandas version: {pd.__version__}\")\n",
    "print(\"Pandas imported successfully!\")\n",
    "\n",
    "# Create sample data (simulating a CSV file)\n",
    "sample_data = {\n",
    "    'name': ['Alice', 'Bob', 'Charlie', 'Diana', 'Eve'],\n",
    "    'age': [25, 30, 35, 28, 32],\n",
    "    'score': [85, 92, 78, 96, 88],\n",
    "    'city': ['New York', 'London', 'Paris', 'Tokyo', 'Berlin']\n",
    "}\n",
    "\n",
    "# Create a DataFrame (pandas' main data structure)\n",
    "df = pd.DataFrame(sample_data)\n",
    "print(\"\\nSample DataFrame:\")\n",
    "print(df)"
   ]
  },
  {
   "cell_type": "markdown",
   "id": "62a6b217",
   "metadata": {},
   "source": [
    "## Basic DataFrame Operations\n",
    "\n",
    "These are the operations you'll see most often in data science notebooks:"
   ]
  },
  {
   "cell_type": "code",
   "execution_count": 3,
   "id": "b67f3756",
   "metadata": {},
   "outputs": [
    {
     "name": "stdout",
     "output_type": "stream",
     "text": [
      "DataFrame shape: (5, 4)\n",
      "Column names: ['name', 'age', 'score', 'city']\n",
      "Data types:\n",
      "name     object\n",
      "age       int64\n",
      "score     int64\n",
      "city     object\n",
      "dtype: object\n",
      "\n",
      "First 3 rows:\n",
      "      name  age  score      city\n",
      "0    Alice   25     85  New York\n",
      "1      Bob   30     92    London\n",
      "2  Charlie   35     78     Paris\n",
      "\n",
      "Basic statistics:\n",
      "             age      score\n",
      "count   5.000000   5.000000\n",
      "mean   30.000000  87.800000\n",
      "std     3.807887   6.870226\n",
      "min    25.000000  78.000000\n",
      "25%    28.000000  85.000000\n",
      "50%    30.000000  88.000000\n",
      "75%    32.000000  92.000000\n",
      "max    35.000000  96.000000\n"
     ]
    }
   ],
   "source": [
    "# Basic info about the DataFrame\n",
    "print(\"DataFrame shape:\", df.shape)  # (rows, columns)\n",
    "print(\"Column names:\", df.columns.tolist())\n",
    "print(\"Data types:\")\n",
    "print(df.dtypes)\n",
    "print()\n",
    "\n",
    "# First/last few rows - very common!\n",
    "print(\"First 3 rows:\")\n",
    "print(df.head(3))\n",
    "print()\n",
    "\n",
    "print(\"Basic statistics:\")\n",
    "print(df.describe())"
   ]
  },
  {
   "cell_type": "markdown",
   "id": "452a5f64",
   "metadata": {},
   "source": [
    "## Column Selection - You'll See This Everywhere!\n",
    "\n",
    "These patterns appear in almost every ML notebook:"
   ]
  },
  {
   "cell_type": "code",
   "execution_count": 4,
   "id": "89b331c5",
   "metadata": {},
   "outputs": [
    {
     "name": "stdout",
     "output_type": "stream",
     "text": [
      "Names column:\n",
      "0      Alice\n",
      "1        Bob\n",
      "2    Charlie\n",
      "3      Diana\n",
      "4        Eve\n",
      "Name: name, dtype: object\n",
      "Type: <class 'pandas.core.series.Series'>\n",
      "\n",
      "Name and score columns:\n",
      "      name  score\n",
      "0    Alice     85\n",
      "1      Bob     92\n",
      "2  Charlie     78\n",
      "3    Diana     96\n",
      "4      Eve     88\n",
      "\n",
      "Features (X):\n",
      "   age  score\n",
      "0   25     85\n",
      "1   30     92\n",
      "2   35     78\n",
      "3   28     96\n",
      "4   32     88\n",
      "\n",
      "Target (y):\n",
      "0      Alice\n",
      "1        Bob\n",
      "2    Charlie\n",
      "3      Diana\n",
      "4        Eve\n",
      "Name: name, dtype: object\n"
     ]
    }
   ],
   "source": [
    "# Select single column\n",
    "names = df['name']  # Returns a Series\n",
    "print(\"Names column:\")\n",
    "print(names)\n",
    "print(f\"Type: {type(names)}\")\n",
    "print()\n",
    "\n",
    "# Select multiple columns\n",
    "subset = df[['name', 'score']]  # Returns a DataFrame\n",
    "print(\"Name and score columns:\")\n",
    "print(subset)\n",
    "print()\n",
    "\n",
    "# This pattern is EVERYWHERE in ML: separate features from target\n",
    "X = df[['age', 'score']]  # Features (inputs)\n",
    "y = df['name']            # Target (what we want to predict)\n",
    "\n",
    "print(\"Features (X):\")\n",
    "print(X)\n",
    "print(\"\\nTarget (y):\")\n",
    "print(y)"
   ]
  },
  {
   "cell_type": "markdown",
   "id": "66cc7b11",
   "metadata": {},
   "source": [
    "## Filtering Data - Essential Skill\n",
    "\n",
    "Filtering is used constantly in data preprocessing:"
   ]
  },
  {
   "cell_type": "code",
   "execution_count": 5,
   "id": "11805405",
   "metadata": {},
   "outputs": [
    {
     "name": "stdout",
     "output_type": "stream",
     "text": [
      "High scorers (score > 85):\n",
      "    name  age  score    city\n",
      "1    Bob   30     92  London\n",
      "3  Diana   28     96   Tokyo\n",
      "4    Eve   32     88  Berlin\n",
      "\n",
      "Young high scorers (age < 30 AND score > 85):\n",
      "    name  age  score   city\n",
      "3  Diana   28     96  Tokyo\n",
      "\n",
      "Scores as NumPy array: [85 92 78 96 88]\n",
      "Type: <class 'numpy.ndarray'>\n"
     ]
    }
   ],
   "source": [
    "# Boolean filtering - very common pattern!\n",
    "high_scorers = df[df['score'] > 85]\n",
    "print(\"High scorers (score > 85):\")\n",
    "print(high_scorers)\n",
    "print()\n",
    "\n",
    "# Multiple conditions\n",
    "young_high_scorers = df[(df['age'] < 30) & (df['score'] > 85)]\n",
    "print(\"Young high scorers (age < 30 AND score > 85):\")\n",
    "print(young_high_scorers)\n",
    "print()\n",
    "\n",
    "# Get values as NumPy array (for ML algorithms)\n",
    "scores_array = df['score'].values\n",
    "print(f\"Scores as NumPy array: {scores_array}\")\n",
    "print(f\"Type: {type(scores_array)}\")"
   ]
  },
  {
   "cell_type": "markdown",
   "id": "b411b638",
   "metadata": {},
   "source": [
    "## Reading CSV Files - The Most Common Operation\n",
    "\n",
    "This is how real data science projects start:"
   ]
  },
  {
   "cell_type": "code",
   "execution_count": 6,
   "id": "791833f9",
   "metadata": {},
   "outputs": [
    {
     "name": "stdout",
     "output_type": "stream",
     "text": [
      "Data loaded from CSV:\n",
      "  product  sales region quarter\n",
      "0  Laptop   1200  North      Q1\n",
      "1   Phone    800  South      Q1\n",
      "2  Tablet    600   East      Q1\n",
      "3  Laptop   1350  North      Q2\n",
      "4   Phone    900  South      Q2\n",
      "5  Tablet    550   East      Q2\n",
      "\n",
      "Sales by product:\n",
      "product\n",
      "Laptop    2550\n",
      "Phone     1700\n",
      "Tablet    1150\n",
      "Name: sales, dtype: int64\n",
      "\n",
      "Average sales by region:\n",
      "region\n",
      "East      575.0\n",
      "North    1275.0\n",
      "South     850.0\n",
      "Name: sales, dtype: float64\n",
      "\n",
      "✅ CSV file demonstration complete!\n"
     ]
    }
   ],
   "source": [
    "# Create a sample CSV file for demonstration\n",
    "sample_csv_data = \"\"\"\n",
    "product,sales,region,quarter\n",
    "Laptop,1200,North,Q1\n",
    "Phone,800,South,Q1\n",
    "Tablet,600,East,Q1\n",
    "Laptop,1350,North,Q2\n",
    "Phone,900,South,Q2\n",
    "Tablet,550,East,Q2\n",
    "\"\"\".strip()\n",
    "\n",
    "# Save to file\n",
    "with open('sample_sales.csv', 'w') as f:\n",
    "    f.write(sample_csv_data)\n",
    "\n",
    "# Read CSV file - this is how most projects start!\n",
    "sales_df = pd.read_csv('sample_sales.csv')\n",
    "print(\"Data loaded from CSV:\")\n",
    "print(sales_df)\n",
    "print()\n",
    "\n",
    "# Quick analysis\n",
    "print(\"Sales by product:\")\n",
    "print(sales_df.groupby('product')['sales'].sum())\n",
    "print()\n",
    "\n",
    "print(\"Average sales by region:\")\n",
    "print(sales_df.groupby('region')['sales'].mean())\n",
    "\n",
    "# Clean up\n",
    "import os\n",
    "os.remove('sample_sales.csv')\n",
    "print(\"\\n✅ CSV file demonstration complete!\")"
   ]
  },
  {
   "cell_type": "markdown",
   "id": "8357055b",
   "metadata": {},
   "source": [
    "## Key Takeaways for ML Notebooks\n",
    "\n",
    "Now you understand these common patterns you'll see:\n",
    "\n",
    "```python\n",
    "# Loading data\n",
    "df = pd.read_csv('data.csv')\n",
    "\n",
    "# Exploring data\n",
    "df.head()\n",
    "df.shape\n",
    "df.describe()\n",
    "\n",
    "# Preparing for ML\n",
    "X = df[['feature1', 'feature2', 'feature3']]  # Features\n",
    "y = df['target']                              # Target\n",
    "\n",
    "# Converting to NumPy for algorithms\n",
    "X_array = X.values\n",
    "y_array = y.values\n",
    "```\n",
    "\n",
    "**What's Next:**\n",
    "- In intermediate courses, you'll learn pandas in depth\n",
    "- You'll work with real datasets\n",
    "- You'll learn data cleaning and preprocessing\n",
    "\n",
    "**For now:** You can recognize and understand pandas code in ML notebooks! 🎉"
   ]
  },
  {
   "cell_type": "markdown",
   "id": "9d6f46e9",
   "metadata": {},
   "source": [
    "---\n",
    "\n",
    "## 🎯 Try It Yourself: Mini Data Analysis\n",
    "\n",
    "### Interactive Challenge: Explore the Sales Data\n",
    "Use the sales_data DataFrame above to answer these questions. Type your code in the cell below!"
   ]
  },
  {
   "cell_type": "code",
   "execution_count": 7,
   "id": "2f6c7c8d",
   "metadata": {},
   "outputs": [
    {
     "name": "stdout",
     "output_type": "stream",
     "text": [
      "1. Average sale amount:\n",
      "\n",
      "2. Sales count by region:\n",
      "\n",
      "3. Total sales in East region:\n",
      "\n",
      "4. Adding large_sale column:\n"
     ]
    }
   ],
   "source": [
    "# YOUR TURN: Answer these questions using pandas code\n",
    "\n",
    "# 1. What's the average sale amount?\n",
    "# Try: sales_data['amount'].mean()\n",
    "\n",
    "# 2. How many sales were made in each region?\n",
    "# Try: sales_data['region'].value_counts()\n",
    "\n",
    "# 3. What's the total sales amount for the East region?\n",
    "# Try: sales_data[sales_data['region'] == 'East']['amount'].sum()\n",
    "\n",
    "# 4. Create a new column 'large_sale' that's True if amount > 1000\n",
    "# Try: sales_data['large_sale'] = sales_data['amount'] > 1000\n",
    "\n",
    "# Write your solutions below:\n",
    "print(\"1. Average sale amount:\")\n",
    "# Your code here\n",
    "\n",
    "print(\"\\n2. Sales count by region:\")\n",
    "# Your code here\n",
    "\n",
    "print(\"\\n3. Total sales in East region:\")\n",
    "# Your code here\n",
    "\n",
    "print(\"\\n4. Adding large_sale column:\")\n",
    "# Your code here\n",
    "# Then display the updated DataFrame"
   ]
  },
  {
   "cell_type": "markdown",
   "id": "dad02403",
   "metadata": {},
   "source": [
    "### 💡 Helpful Hints\n",
    "\n",
    "**Stuck? Here are some tips:**\n",
    "\n",
    "1. **For question 1**: Use `.mean()` on a column\n",
    "2. **For question 2**: Use `.value_counts()` to count unique values\n",
    "3. **For question 3**: First filter the DataFrame, then sum the amount column\n",
    "4. **For question 4**: Use comparison operators to create boolean columns\n",
    "\n",
    "**Remember**: \n",
    "- Column names go in quotes: `df['column_name']`\n",
    "- Use square brackets for filtering: `df[condition]`\n",
    "- Chain operations: `df[condition]['column'].sum()`\n",
    "\n",
    "---\n",
    "\n",
    "## 🎓 Congratulations!\n",
    "\n",
    "You've just completed your first pandas operations! Here's what you accomplished:\n",
    "\n",
    "✅ **Loaded data** from a CSV file  \n",
    "✅ **Explored data** with `.head()`, `.info()`, `.describe()`  \n",
    "✅ **Selected columns** and filtered rows  \n",
    "✅ **Performed calculations** on data  \n",
    "✅ **Created new columns** based on conditions  \n",
    "\n",
    "## 🚀 What's Next?\n",
    "\n",
    "In future courses, you'll learn:\n",
    "- **Data cleaning**: Handling missing values, duplicates\n",
    "- **Advanced filtering**: Multiple conditions, complex queries\n",
    "- **Grouping and aggregation**: Group by categories, calculate statistics\n",
    "- **Merging datasets**: Combining multiple data sources\n",
    "- **Time series analysis**: Working with dates and time data\n",
    "- **Data visualization**: Creating charts directly from DataFrames\n",
    "\n",
    "**For now**: You know enough pandas to understand most ML notebook code! 🎉"
   ]
  }
 ],
 "metadata": {
  "kernelspec": {
   "display_name": "venv",
   "language": "python",
   "name": "python3"
  },
  "language_info": {
   "codemirror_mode": {
    "name": "ipython",
    "version": 3
   },
   "file_extension": ".py",
   "mimetype": "text/x-python",
   "name": "python",
   "nbconvert_exporter": "python",
   "pygments_lexer": "ipython3",
   "version": "3.11.5"
  }
 },
 "nbformat": 4,
 "nbformat_minor": 5
}
