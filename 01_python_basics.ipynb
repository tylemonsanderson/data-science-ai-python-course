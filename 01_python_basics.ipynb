{
 "cells": [
  {
   "cell_type": "markdown",
   "metadata": {},
   "source": [
    "# Notebook 1: Getting Started with Python\n",
    "\n",
    "Welcome to your first Python notebook! In this session, you'll learn the fundamental building blocks of Python programming that you'll need for data science.\n",
    "\n",
    "**Learning Objectives:**\n",
    "- Understand variables and how to assign values\n",
    "- Work with different data types (numbers, strings, booleans)\n",
    "- Perform basic arithmetic operations\n",
    "- Use print statements for output\n",
    "- Write comments to document your code"
   ]
  },
  {
   "cell_type": "markdown",
   "metadata": {},
   "source": [
    "## What is a Jupyter Notebook?\n",
    "\n",
    "A Jupyter notebook combines text (like this paragraph) with executable code. You can run code by clicking the \"Run\" button or pressing Shift+Enter. Let's start with a simple example:"
   ]
  },
  {
   "cell_type": "code",
   "execution_count": 6,
   "metadata": {},
   "outputs": [
    {
     "name": "stdout",
     "output_type": "stream",
     "text": [
      "Hello, Python!\n"
     ]
    }
   ],
   "source": [
    "# This is a comment - Python ignores lines that start with #\n",
    "print(\"Hello, Python!\")"
   ]
  },
  {
   "cell_type": "markdown",
   "metadata": {},
   "source": [
    "## Variables and Assignment\n",
    "\n",
    "Variables are like containers that store data. In Python, you create a variable by assigning a value to it using the `=` operator."
   ]
  },
  {
   "cell_type": "code",
   "execution_count": null,
   "metadata": {},
   "outputs": [
    {
     "name": "stdout",
     "output_type": "stream",
     "text": [
      "Name: Alice\n",
      "Age: 25\n",
      "Height: 5.6\n"
     ]
    }
   ],
   "source": [
    "# Creating variables\n",
    "name = \"Alice\"\n",
    "age = 25\n",
    "height = 5.6\n",
    "\n",
    "# Display the values using f-strings (modern Python)\n",
    "print(f\"Name: {name}\")\n",
    "print(f\"Age: {age}\")\n",
    "print(f\"Height: {height}\")"
   ]
  },
  {
   "cell_type": "markdown",
   "metadata": {},
   "source": [
    "## Data Types\n",
    "\n",
    "Python has several built-in data types. Let's explore the most important ones for data science:"
   ]
  },
  {
   "cell_type": "markdown",
   "metadata": {},
   "source": [
    "### Numbers (Integers and Floats)"
   ]
  },
  {
   "cell_type": "code",
   "execution_count": null,
   "metadata": {},
   "outputs": [
    {
     "name": "stdout",
     "output_type": "stream",
     "text": [
      "Count: 42 Type: <class 'int'>\n",
      "Price: 19.99 Type: <class 'float'>\n"
     ]
    }
   ],
   "source": [
    "# Integers (whole numbers)\n",
    "count = 42\n",
    "temperature = -5\n",
    "\n",
    "# Floats (decimal numbers)\n",
    "price = 19.99\n",
    "pi = 3.14159\n",
    "\n",
    "print(f\"Count: {count}, Type: {type(count)}\")\n",
    "print(f\"Price: {price}, Type: {type(price)}\")"
   ]
  },
  {
   "cell_type": "markdown",
   "metadata": {},
   "source": [
    "### Strings (Text)"
   ]
  },
  {
   "cell_type": "code",
   "execution_count": null,
   "metadata": {},
   "outputs": [
    {
     "name": "stdout",
     "output_type": "stream",
     "text": [
      "Welcome to Python!\n",
      "New York\n",
      "Type of message: <class 'str'>\n"
     ]
    }
   ],
   "source": [
    "# Strings can use single or double quotes\n",
    "message = \"Welcome to Python!\"\n",
    "city = 'New York'\n",
    "\n",
    "print(message)\n",
    "print(city)\n",
    "print(f\"Type of message: {type(message)}\")"
   ]
  },
  {
   "cell_type": "markdown",
   "metadata": {},
   "source": [
    "### Booleans (True/False)"
   ]
  },
  {
   "cell_type": "code",
   "execution_count": null,
   "metadata": {},
   "outputs": [
    {
     "name": "stdout",
     "output_type": "stream",
     "text": [
      "Is student: True\n",
      "Is working: False\n",
      "Type: <class 'bool'>\n"
     ]
    }
   ],
   "source": [
    "# Boolean values\n",
    "is_student = True\n",
    "is_working = False\n",
    "\n",
    "print(f\"Is student: {is_student}\")\n",
    "print(f\"Is working: {is_working}\")\n",
    "print(f\"Type: {type(is_student)}\")"
   ]
  },
  {
   "cell_type": "markdown",
   "metadata": {},
   "source": [
    "## Arithmetic Operations\n",
    "\n",
    "Python supports all basic mathematical operations:"
   ]
  },
  {
   "cell_type": "code",
   "execution_count": null,
   "metadata": {},
   "outputs": [
    {
     "name": "stdout",
     "output_type": "stream",
     "text": [
      "Addition: 13\n",
      "Subtraction: 7\n",
      "Multiplication: 30\n",
      "Division: 3.3333333333333335\n",
      "Integer Division: 3\n",
      "Remainder (Modulo): 1\n",
      "Exponentiation: 1000\n"
     ]
    }
   ],
   "source": [
    "# Basic arithmetic\n",
    "a = 10\n",
    "b = 3\n",
    "\n",
    "print(f\"Addition: {a + b}\")\n",
    "print(f\"Subtraction: {a - b}\")\n",
    "print(f\"Multiplication: {a * b}\")\n",
    "print(f\"Division: {a / b}\")\n",
    "print(f\"Integer Division: {a // b}\")  # Rounds down to nearest integer\n",
    "print(f\"Remainder (Modulo): {a % b}\")\n",
    "print(f\"Exponentiation: {a ** b}\")  # a to the power of b"
   ]
  },
  {
   "cell_type": "markdown",
   "metadata": {},
   "source": [
    "## String Operations\n",
    "\n",
    "Strings have many useful operations that you'll use in data science:"
   ]
  },
  {
   "cell_type": "code",
   "execution_count": null,
   "metadata": {},
   "outputs": [
    {
     "name": "stdout",
     "output_type": "stream",
     "text": [
      "Full name: John Doe\n",
      "Length of full name: 8\n",
      "Uppercase: JOHN DOE\n",
      "Lowercase: john doe\n"
     ]
    }
   ],
   "source": [
    "first_name = \"John\"\n",
    "last_name = \"Doe\"\n",
    "\n",
    "# String concatenation (joining)\n",
    "full_name = first_name + \" \" + last_name\n",
    "print(f\"Full name: {full_name}\")\n",
    "\n",
    "# String length\n",
    "print(f\"Length of full name: {len(full_name)}\")\n",
    "\n",
    "# String methods\n",
    "print(f\"Uppercase: {full_name.upper()}\")\n",
    "print(f\"Lowercase: {full_name.lower()}\")"
   ]
  },
  {
   "cell_type": "markdown",
   "metadata": {},
   "source": [
    "## String Formatting with f-strings\n",
    "\n",
    "String formatting is crucial for displaying results in data science. We'll use f-strings (formatted string literals), which are the modern Python way to format strings. F-strings are faster, more readable, and easier to use than older methods."
   ]
  },
  {
   "cell_type": "code",
   "execution_count": null,
   "metadata": {},
   "outputs": [
    {
     "name": "stdout",
     "output_type": "stream",
     "text": [
      "Student Alice scored 85.7%\n",
      "Student Alice has a score of 85.7\n",
      "Rounded score: 86\n",
      "Score with 2 decimals: 85.70\n"
     ]
    }
   ],
   "source": [
    "name = \"Alice\"\n",
    "score = 85.7\n",
    "\n",
    "# Using f-strings (modern Python - recommended approach)\n",
    "print(f\"Student {name} scored {score:.1f}%\")\n",
    "\n",
    "# Additional f-string formatting examples\n",
    "print(f\"Student {name} has a score of {score}\")\n",
    "print(f\"Rounded score: {score:.0f}\")\n",
    "print(f\"Score with 2 decimals: {score:.2f}\")"
   ]
  },
  {
   "cell_type": "markdown",
   "metadata": {},
   "source": [
    "### 🎯 Understanding F-String Formatting in Detail\n",
    "\n",
    "Let's break down exactly how the f-string formatting works in the code above:\n",
    "\n",
    "#### The Variables\n",
    "- `name = \"Alice\"` → A **string** containing the text \"Alice\"\n",
    "- `score = 85.7` → A **float** (decimal number) with the value 85.7\n",
    "\n",
    "#### F-String Breakdown\n",
    "\n",
    "**1. Basic F-String with Number Formatting:**\n",
    "```python\n",
    "print(f\"Student {name} scored {score:.1f}%\")\n",
    "```\n",
    "- `f\"...\"` → Creates an **f-string** (formatted string literal)\n",
    "- `{name}` → Inserts the value of the `name` variable directly\n",
    "- `{score:.1f}` → Inserts the `score` variable with special formatting:\n",
    "  - `:` → Starts the format specification\n",
    "  - `.1` → Show exactly 1 decimal place\n",
    "  - `f` → Format as a floating-point number\n",
    "- `%` → A literal percent sign (not part of formatting)\n",
    "\n",
    "**2. Simple Variable Insertion:**\n",
    "```python\n",
    "print(f\"Student {name} has a score of {score}\")\n",
    "```\n",
    "No special formatting - just inserts the variables as-is.\n",
    "\n",
    "**3. Rounded to Whole Number:**\n",
    "```python\n",
    "print(f\"Rounded score: {score:.0f}\")\n",
    "```\n",
    "`{score:.0f}` → Show 0 decimal places (rounds 85.7 to 86)\n",
    "\n",
    "**4. Two Decimal Places:**\n",
    "```python\n",
    "print(f\"Score with 2 decimals: {score:.2f}\")\n",
    "```\n",
    "`{score:.2f}` → Show exactly 2 decimal places (adds trailing zero: 85.70)\n",
    "\n",
    "#### 🔧 Common F-String Format Patterns for Data Science\n",
    "\n",
    "```python\n",
    "# Number formatting examples\n",
    "value = 1234.5678\n",
    "percentage = 0.847\n",
    "large_number = 1500000\n",
    "\n",
    "# Different decimal places\n",
    "print(f\"{value:.2f}\")           # 1234.57 (2 decimals)\n",
    "print(f\"{value:.0f}\")           # 1235 (rounded to whole)\n",
    "\n",
    "# Thousands separator\n",
    "print(f\"{large_number:,}\")      # 1,500,000 (with commas)\n",
    "print(f\"{large_number:,.2f}\")   # 1,500,000.00 (commas + decimals)\n",
    "\n",
    "# Percentage formatting\n",
    "print(f\"{percentage:.1%}\")      # 84.7% (auto converts to %)\n",
    "print(f\"{percentage:.2%}\")      # 84.70%\n",
    "\n",
    "# Padding and alignment\n",
    "print(f\"{value:10.2f}\")         # \"   1234.57\" (right-aligned in 10 chars)\n",
    "print(f\"{value:<10.2f}\")        # \"1234.57   \" (left-aligned)\n",
    "```\n",
    "\n",
    "#### 💡 Why F-Strings Are Essential for Data Science\n",
    "\n",
    "1. **Professional Reports:** Create clean, formatted output for stakeholders\n",
    "2. **Readability:** Variables are clearly visible in the string\n",
    "3. **Performance:** Faster than older formatting methods\n",
    "4. **Consistency:** Ensures numbers display with appropriate precision\n",
    "5. **Debugging:** Easy to see what variables are being used\n",
    "\n",
    "**You'll use f-strings constantly** in data science for displaying analysis results, creating file names, formatting reports, and presenting findings!"
   ]
  },
  {
   "cell_type": "markdown",
   "metadata": {},
   "source": [
    "## Working with Variables\n",
    "\n",
    "Variables can be updated and used in calculations:"
   ]
  },
  {
   "cell_type": "code",
   "execution_count": null,
   "metadata": {},
   "outputs": [
    {
     "name": "stdout",
     "output_type": "stream",
     "text": [
      "Initial balance: 1000\n",
      "Balance after interest: 1050.0\n",
      "Balance after deposit: 1150.0\n"
     ]
    }
   ],
   "source": [
    "# Starting values\n",
    "balance = 1000\n",
    "interest_rate = 0.05\n",
    "\n",
    "print(f\"Initial balance: {balance}\")\n",
    "\n",
    "# Update the balance\n",
    "balance = balance + (balance * interest_rate)\n",
    "print(f\"Balance after interest: {balance}\")\n",
    "\n",
    "# Shorthand for updating variables\n",
    "balance += 100  # Same as: balance = balance + 100\n",
    "print(f\"Balance after deposit: {balance}\")"
   ]
  },
  {
   "cell_type": "markdown",
   "metadata": {},
   "source": [
    "## Data Analysis Example: Investment Portfolio\n",
    "\n",
    "Let's apply what we've learned to a realistic data science scenario - analyzing investment returns:"
   ]
  },
  {
   "cell_type": "code",
   "execution_count": null,
   "metadata": {},
   "outputs": [
    {
     "name": "stdout",
     "output_type": "stream",
     "text": [
      "=== INVESTMENT PORTFOLIO ANALYSIS ===\n",
      "Stock A Portfolio Value: 7537.5\n",
      "Stock A Portfolio Value: $7,537.50\n",
      "Stock B Portfolio Value: $8,920.00\n",
      "Bond Investment: $5,000.00\n",
      "Total Portfolio Value: $21,457.50\n",
      "\n",
      "=== ANNUAL INCOME PROJECTION ===\n",
      "Stock A Dividends: $115.00\n",
      "Stock B Dividends: $185.00\n",
      "Bond Interest: $175.00\n",
      "Total Annual Income: $475.00\n",
      "Income Yield: 2.21%\n"
     ]
    }
   ],
   "source": [
    "# Real-world scenario: Analyzing investment portfolio performance\n",
    "# Data for three different investments\n",
    "stock_a_price = 150.75\n",
    "stock_a_shares = 50\n",
    "stock_a_dividend = 2.30\n",
    "\n",
    "stock_b_price = 89.20\n",
    "stock_b_shares = 100\n",
    "stock_b_dividend = 1.85\n",
    "\n",
    "bond_investment = 5000\n",
    "bond_interest_rate = 0.035\n",
    "\n",
    "# Calculate portfolio values\n",
    "stock_a_value = stock_a_price * stock_a_shares\n",
    "stock_b_value = stock_b_price * stock_b_shares\n",
    "total_stock_value = stock_a_value + stock_b_value\n",
    "\n",
    "# Calculate annual income from dividends and bonds\n",
    "stock_a_annual_income = stock_a_dividend * stock_a_shares\n",
    "stock_b_annual_income = stock_b_dividend * stock_b_shares\n",
    "bond_annual_income = bond_investment * bond_interest_rate\n",
    "total_annual_income = stock_a_annual_income + stock_b_annual_income + bond_annual_income\n",
    "\n",
    "# Generate investment report (like a data scientist would)\n",
    "print(\"=== INVESTMENT PORTFOLIO ANALYSIS ===\")\n",
    "print(f\"Stock A Portfolio Value: {stock_a_value}\")\n",
    "print(f\"Stock A Portfolio Value: ${stock_a_value:,.2f}\")\n",
    "print(f\"Stock B Portfolio Value: ${stock_b_value:,.2f}\")\n",
    "print(f\"Bond Investment: ${bond_investment:,.2f}\")\n",
    "print(f\"Total Portfolio Value: ${total_stock_value + bond_investment:,.2f}\")\n",
    "print()\n",
    "print(\"=== ANNUAL INCOME PROJECTION ===\")\n",
    "print(f\"Stock A Dividends: ${stock_a_annual_income:.2f}\")\n",
    "print(f\"Stock B Dividends: ${stock_b_annual_income:.2f}\")\n",
    "print(f\"Bond Interest: ${bond_annual_income:.2f}\")\n",
    "print(f\"Total Annual Income: ${total_annual_income:.2f}\")\n",
    "print(f\"Income Yield: {(total_annual_income / (total_stock_value + bond_investment)) * 100:.2f}%\")"
   ]
  },
  {
   "cell_type": "markdown",
   "metadata": {},
   "source": [
    "## Practice Exercises\n",
    "\n",
    "Try these exercises to practice what you've learned:"
   ]
  },
  {
   "cell_type": "markdown",
   "metadata": {},
   "source": [
    "### Exercise 1: Personal Information\n",
    "Create variables for your name, age, and favorite number. Print them in a formatted sentence."
   ]
  },
  {
   "cell_type": "code",
   "execution_count": null,
   "metadata": {},
   "outputs": [],
   "source": [
    "# Your code here\n",
    "my_name = \"Your Name\"\n",
    "my_age = 0\n",
    "favorite_number = 0\n",
    "\n",
    "# Print a sentence using these variables\n"
   ]
  },
  {
   "cell_type": "markdown",
   "metadata": {},
   "source": [
    "### Exercise 2: Simple Calculator\n",
    "Create two number variables and perform all arithmetic operations on them."
   ]
  },
  {
   "cell_type": "code",
   "execution_count": null,
   "metadata": {},
   "outputs": [],
   "source": [
    "# Your code here\n",
    "num1 = 15\n",
    "num2 = 4\n",
    "\n",
    "# Perform and print all arithmetic operations\n"
   ]
  },
  {
   "cell_type": "markdown",
   "metadata": {},
   "source": [
    "### Exercise 3: Data Analysis Scenario\n",
    "You're analyzing test scores. Calculate the average of three scores and determine if it's a passing grade (>= 70)."
   ]
  },
  {
   "cell_type": "code",
   "execution_count": null,
   "metadata": {},
   "outputs": [
    {
     "name": "stdout",
     "output_type": "stream",
     "text": [
      "Average score: 85.0\n",
      "Is passing: True\n"
     ]
    }
   ],
   "source": [
    "# Three test scores\n",
    "score1 = 78\n",
    "score2 = 85\n",
    "score3 = 92\n",
    "\n",
    "# Calculate average\n",
    "average = (score1 + score2 + score3) / 3\n",
    "\n",
    "# Determine if passing (we'll learn better ways to do this in the next notebook)\n",
    "is_passing = average >= 70\n",
    "\n",
    "print(f\"Average score: {average:.1f}\")\n",
    "print(f\"Is passing: {is_passing}\")"
   ]
  },
  {
   "cell_type": "markdown",
   "metadata": {},
   "source": [
    "## Key Takeaways\n",
    "\n",
    "1. **Variables** store data and can be updated\n",
    "2. **Data types** include integers, floats, strings, and booleans\n",
    "3. **Arithmetic operations** work as expected with numbers\n",
    "4. **String formatting** is essential for displaying results\n",
    "5. **Comments** (using #) help document your code\n",
    "\n",
    "These fundamentals will be used throughout your data science journey. In the next notebook, we'll learn about control structures that let you make decisions and repeat operations in your code."
   ]
  },
  {
   "cell_type": "markdown",
   "metadata": {},
   "source": [
    "---\n",
    "\n",
    "## 📝 Mini-Challenge: Practice What You've Learned\n",
    "\n",
    "Test your understanding with these hands-on exercises:\n",
    "\n",
    "### Challenge 1: Personal Data Calculator\n",
    "Create variables for:\n",
    "- Your name (string)\n",
    "- Your age (integer) \n",
    "- Your height in meters (float)\n",
    "- Whether you like Python (boolean)\n",
    "\n",
    "Then calculate and print:\n",
    "- Your age in months\n",
    "- Your height in centimeters\n",
    "- A message combining your name and whether you like Python"
   ]
  },
  {
   "cell_type": "code",
   "execution_count": null,
   "metadata": {},
   "outputs": [
    {
     "name": "stdout",
     "output_type": "stream",
     "text": [
      "Name: Your Name\n",
      "Age in months: 300\n",
      "Height in cm: 175.0\n",
      "Your Name likes Python: True\n"
     ]
    }
   ],
   "source": [
    "# Challenge 1: Your solution here\n",
    "# Create your variables\n",
    "my_name = \"Your Name\"  # Replace with your actual name\n",
    "my_age = 25           # Replace with your actual age\n",
    "my_height_m = 1.75    # Replace with your actual height in meters\n",
    "likes_python = True   # Do you like Python?\n",
    "\n",
    "# Calculate values\n",
    "age_in_months = my_age * 12\n",
    "height_in_cm = my_height_m * 100\n",
    "\n",
    "# Print results\n",
    "print(f\"Name: {my_name}\")\n",
    "print(f\"Age in months: {age_in_months}\")\n",
    "print(f\"Height in cm: {height_in_cm}\")\n",
    "print(f\"{my_name} likes Python: {likes_python}\")"
   ]
  },
  {
   "cell_type": "markdown",
   "metadata": {},
   "source": [
    "### Challenge 2: Data Type Explorer\n",
    "Create variables of different types and use `type()` to check their types. Try some edge cases:\n",
    "- What happens when you divide two integers?\n",
    "- What's the type of `3.0`?\n",
    "- Try creating a string with quotes inside it"
   ]
  },
  {
   "cell_type": "code",
   "execution_count": null,
   "metadata": {},
   "outputs": [
    {
     "name": "stdout",
     "output_type": "stream",
     "text": [
      "10 / 3 = 3.3333333333333335, type: <class 'float'>\n",
      "3.0 type: <class 'float'>\n",
      "String with quotes: She said, 'Hello, Python!'\n"
     ]
    }
   ],
   "source": [
    "# Challenge 2: Your solution here\n",
    "# Experiment with different data types\n",
    "number1 = 10\n",
    "number2 = 3\n",
    "result = number1 / number2\n",
    "print(f\"10 / 3 = {result}, type: {type(result)}\")\n",
    "\n",
    "float_number = 3.0\n",
    "print(f\"3.0 type: {type(float_number)}\")\n",
    "\n",
    "# String with quotes inside\n",
    "quote_string = \"She said, 'Hello, Python!'\"\n",
    "print(f\"String with quotes: {quote_string}\")\n",
    "\n",
    "# Try your own experiments below:"
   ]
  },
  {
   "cell_type": "markdown",
   "metadata": {},
   "source": [
    "---\n",
    "\n",
    "## ✅ Self-Assessment Checklist\n",
    "\n",
    "Before moving to the next notebook, make sure you can:\n",
    "\n",
    "- [ ] Create variables and assign different types of values\n",
    "- [ ] Understand the difference between integers, floats, strings, and booleans\n",
    "- [ ] Use arithmetic operators (+, -, *, /, //, %, **)\n",
    "- [ ] Write and understand comments in code\n",
    "- [ ] Use print() statements to display output\n",
    "- [ ] Use f-strings for formatted output\n",
    "- [ ] Check the type of a variable using type()\n",
    "\n",
    "**Pro Tip:** If you're unsure about any item, review the relevant section above or ask for help!\n",
    "\n",
    "---\n",
    "\n",
    "## 🚀 What's Next?\n",
    "\n",
    "In the next notebook, you'll learn about:\n",
    "- **Control Structures**: Making decisions with if/else statements\n",
    "- **Loops**: Repeating actions efficiently\n",
    "- **User Input**: Making your programs interactive\n",
    "\n",
    "These are essential tools for writing more complex data science programs!"
   ]
  }
 ],
 "metadata": {
  "kernelspec": {
   "display_name": "venv",
   "language": "python",
   "name": "python3"
  },
  "language_info": {
   "codemirror_mode": {
    "name": "ipython",
    "version": 3
   },
   "file_extension": ".py",
   "mimetype": "text/x-python",
   "name": "python",
   "nbconvert_exporter": "python",
   "pygments_lexer": "ipython3",
   "version": "3.11.5"
  }
 },
 "nbformat": 4,
 "nbformat_minor": 4
}
