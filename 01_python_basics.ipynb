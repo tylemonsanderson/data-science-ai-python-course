{
 "cells": [
  {
   "cell_type": "markdown",
   "metadata": {},
   "source": [
    "# Notebook 1: Getting Started with Python\n",
    "\n",
    "Welcome to your first Python notebook! In this session, you'll learn the fundamental building blocks of Python programming that you'll need for data science.\n",
    "\n",
    "**Learning Objectives:**\n",
    "- Understand variables and how to assign values\n",
    "- Work with different data types (numbers, strings, booleans)\n",
    "- Perform basic arithmetic operations\n",
    "- Use print statements for output\n",
    "- Write comments to document your code"
   ]
  },
  {
   "cell_type": "markdown",
   "metadata": {},
   "source": [
    "## What is a Jupyter Notebook?\n",
    "\n",
    "A Jupyter notebook combines text (like this paragraph) with executable code. You can run code by clicking the \"Run\" button or pressing Shift+Enter. Let's start with a simple example:"
   ]
  },
  {
   "cell_type": "code",
   "execution_count": 2,
   "metadata": {},
   "outputs": [
    {
     "name": "stdout",
     "output_type": "stream",
     "text": [
      "Hello, Python!\n"
     ]
    }
   ],
   "source": [
    "# This is a comment - Python ignores lines that start with #\n",
    "print(\"Hello, Python!\")"
   ]
  },
  {
   "cell_type": "markdown",
   "metadata": {},
   "source": [
    "## Variables and Assignment\n",
    "\n",
    "Variables are like containers that store data. In Python, you create a variable by assigning a value to it using the `=` operator."
   ]
  },
  {
   "cell_type": "code",
   "execution_count": null,
   "metadata": {},
   "outputs": [],
   "source": [
    "# Creating variables\n",
    "name = \"Alice\"\n",
    "age = 25\n",
    "height = 5.6\n",
    "\n",
    "# Display the values\n",
    "print(\"Name:\", name)\n",
    "print(\"Age:\", age)\n",
    "print(\"Height:\", height)"
   ]
  },
  {
   "cell_type": "markdown",
   "metadata": {},
   "source": [
    "## Data Types\n",
    "\n",
    "Python has several built-in data types. Let's explore the most important ones for data science:"
   ]
  },
  {
   "cell_type": "markdown",
   "metadata": {},
   "source": [
    "### Numbers (Integers and Floats)"
   ]
  },
  {
   "cell_type": "code",
   "execution_count": null,
   "metadata": {},
   "outputs": [],
   "source": [
    "# Integers (whole numbers)\n",
    "count = 42\n",
    "temperature = -5\n",
    "\n",
    "# Floats (decimal numbers)\n",
    "price = 19.99\n",
    "pi = 3.14159\n",
    "\n",
    "print(\"Count:\", count, \"Type:\", type(count))\n",
    "print(\"Price:\", price, \"Type:\", type(price))"
   ]
  },
  {
   "cell_type": "markdown",
   "metadata": {},
   "source": [
    "### Strings (Text)"
   ]
  },
  {
   "cell_type": "code",
   "execution_count": null,
   "metadata": {},
   "outputs": [],
   "source": [
    "# Strings can use single or double quotes\n",
    "message = \"Welcome to Python!\"\n",
    "city = 'New York'\n",
    "\n",
    "print(message)\n",
    "print(city)\n",
    "print(\"Type of message:\", type(message))"
   ]
  },
  {
   "cell_type": "markdown",
   "metadata": {},
   "source": [
    "### Booleans (True/False)"
   ]
  },
  {
   "cell_type": "code",
   "execution_count": null,
   "metadata": {},
   "outputs": [],
   "source": [
    "# Boolean values\n",
    "is_student = True\n",
    "is_working = False\n",
    "\n",
    "print(\"Is student:\", is_student)\n",
    "print(\"Is working:\", is_working)\n",
    "print(\"Type:\", type(is_student))"
   ]
  },
  {
   "cell_type": "markdown",
   "metadata": {},
   "source": [
    "## Arithmetic Operations\n",
    "\n",
    "Python supports all basic mathematical operations:"
   ]
  },
  {
   "cell_type": "code",
   "execution_count": null,
   "metadata": {},
   "outputs": [],
   "source": [
    "# Basic arithmetic\n",
    "a = 10\n",
    "b = 3\n",
    "\n",
    "print(\"Addition:\", a + b)\n",
    "print(\"Subtraction:\", a - b)\n",
    "print(\"Multiplication:\", a * b)\n",
    "print(\"Division:\", a / b)\n",
    "print(\"Integer Division:\", a // b)  # Rounds down to nearest integer\n",
    "print(\"Remainder (Modulo):\", a % b)\n",
    "print(\"Exponentiation:\", a ** b)  # a to the power of b"
   ]
  },
  {
   "cell_type": "markdown",
   "metadata": {},
   "source": [
    "## String Operations\n",
    "\n",
    "Strings have many useful operations that you'll use in data science:"
   ]
  },
  {
   "cell_type": "code",
   "execution_count": null,
   "metadata": {},
   "outputs": [],
   "source": [
    "first_name = \"John\"\n",
    "last_name = \"Doe\"\n",
    "\n",
    "# String concatenation (joining)\n",
    "full_name = first_name + \" \" + last_name\n",
    "print(\"Full name:\", full_name)\n",
    "\n",
    "# String length\n",
    "print(\"Length of full name:\", len(full_name))\n",
    "\n",
    "# String methods\n",
    "print(\"Uppercase:\", full_name.upper())\n",
    "print(\"Lowercase:\", full_name.lower())"
   ]
  },
  {
   "cell_type": "markdown",
   "metadata": {},
   "source": [
    "## String Formatting\n",
    "\n",
    "String formatting is crucial for displaying results in data science. Here are different ways to format strings:"
   ]
  },
  {
   "cell_type": "code",
   "execution_count": null,
   "metadata": {},
   "outputs": [],
   "source": [
    "name = \"Alice\"\n",
    "score = 85.7\n",
    "\n",
    "# Method 1: Using % formatting (you'll see this in advanced notebooks)\n",
    "print(\"Student %s scored %.1f%%\" % (name, score))\n",
    "\n",
    "# Method 2: Using .format() method\n",
    "print(\"Student {} scored {:.1f}%\".format(name, score))\n",
    "\n",
    "# Method 3: Using f-strings (modern Python)\n",
    "print(f\"Student {name} scored {score:.1f}%\")"
   ]
  },
  {
   "cell_type": "markdown",
   "metadata": {},
   "source": [
    "## Working with Variables\n",
    "\n",
    "Variables can be updated and used in calculations:"
   ]
  },
  {
   "cell_type": "code",
   "execution_count": null,
   "metadata": {},
   "outputs": [],
   "source": [
    "# Starting values\n",
    "balance = 1000\n",
    "interest_rate = 0.05\n",
    "\n",
    "print(\"Initial balance:\", balance)\n",
    "\n",
    "# Update the balance\n",
    "balance = balance + (balance * interest_rate)\n",
    "print(\"Balance after interest:\", balance)\n",
    "\n",
    "# Shorthand for updating variables\n",
    "balance += 100  # Same as: balance = balance + 100\n",
    "print(\"Balance after deposit:\", balance)"
   ]
  },
  {
   "cell_type": "markdown",
   "metadata": {},
   "source": [
    "## Practice Exercises\n",
    "\n",
    "Try these exercises to practice what you've learned:"
   ]
  },
  {
   "cell_type": "markdown",
   "metadata": {},
   "source": [
    "### Exercise 1: Personal Information\n",
    "Create variables for your name, age, and favorite number. Print them in a formatted sentence."
   ]
  },
  {
   "cell_type": "code",
   "execution_count": null,
   "metadata": {},
   "outputs": [],
   "source": [
    "# Your code here\n",
    "my_name = \"Your Name\"\n",
    "my_age = 0\n",
    "favorite_number = 0\n",
    "\n",
    "# Print a sentence using these variables\n"
   ]
  },
  {
   "cell_type": "markdown",
   "metadata": {},
   "source": [
    "### Exercise 2: Simple Calculator\n",
    "Create two number variables and perform all arithmetic operations on them."
   ]
  },
  {
   "cell_type": "code",
   "execution_count": null,
   "metadata": {},
   "outputs": [],
   "source": [
    "# Your code here\n",
    "num1 = 15\n",
    "num2 = 4\n",
    "\n",
    "# Perform and print all arithmetic operations\n"
   ]
  },
  {
   "cell_type": "markdown",
   "metadata": {},
   "source": [
    "### Exercise 3: Data Analysis Scenario\n",
    "You're analyzing test scores. Calculate the average of three scores and determine if it's a passing grade (>= 70)."
   ]
  },
  {
   "cell_type": "code",
   "execution_count": null,
   "metadata": {},
   "outputs": [],
   "source": [
    "# Three test scores\n",
    "score1 = 78\n",
    "score2 = 85\n",
    "score3 = 92\n",
    "\n",
    "# Calculate average\n",
    "average = (score1 + score2 + score3) / 3\n",
    "\n",
    "# Determine if passing (we'll learn better ways to do this in the next notebook)\n",
    "is_passing = average >= 70\n",
    "\n",
    "print(f\"Average score: {average:.1f}\")\n",
    "print(f\"Is passing: {is_passing}\")"
   ]
  },
  {
   "cell_type": "markdown",
   "metadata": {},
   "source": [
    "## Key Takeaways\n",
    "\n",
    "1. **Variables** store data and can be updated\n",
    "2. **Data types** include integers, floats, strings, and booleans\n",
    "3. **Arithmetic operations** work as expected with numbers\n",
    "4. **String formatting** is essential for displaying results\n",
    "5. **Comments** (using #) help document your code\n",
    "\n",
    "These fundamentals will be used throughout your data science journey. In the next notebook, we'll learn about control structures that let you make decisions and repeat operations in your code."
   ]
  },
  {
   "cell_type": "markdown",
   "metadata": {},
   "source": [
    "---\n",
    "\n",
    "## 📝 Mini-Challenge: Practice What You've Learned\n",
    "\n",
    "Test your understanding with these hands-on exercises:\n",
    "\n",
    "### Challenge 1: Personal Data Calculator\n",
    "Create variables for:\n",
    "- Your name (string)\n",
    "- Your age (integer) \n",
    "- Your height in meters (float)\n",
    "- Whether you like Python (boolean)\n",
    "\n",
    "Then calculate and print:\n",
    "- Your age in months\n",
    "- Your height in centimeters\n",
    "- A message combining your name and whether you like Python"
   ]
  },
  {
   "cell_type": "code",
   "execution_count": null,
   "metadata": {},
   "outputs": [],
   "source": [
    "# Challenge 1: Your solution here\n",
    "# Create your variables\n",
    "my_name = \"Your Name\"  # Replace with your actual name\n",
    "my_age = 25           # Replace with your actual age\n",
    "my_height_m = 1.75    # Replace with your actual height in meters\n",
    "likes_python = True   # Do you like Python?\n",
    "\n",
    "# Calculate values\n",
    "age_in_months = my_age * 12\n",
    "height_in_cm = my_height_m * 100\n",
    "\n",
    "# Print results\n",
    "print(f\"Name: {my_name}\")\n",
    "print(f\"Age in months: {age_in_months}\")\n",
    "print(f\"Height in cm: {height_in_cm}\")\n",
    "print(f\"{my_name} likes Python: {likes_python}\")"
   ]
  },
  {
   "cell_type": "markdown",
   "metadata": {},
   "source": [
    "### Challenge 2: Data Type Explorer\n",
    "Create variables of different types and use `type()` to check their types. Try some edge cases:\n",
    "- What happens when you divide two integers?\n",
    "- What's the type of `3.0`?\n",
    "- Try creating a string with quotes inside it"
   ]
  },
  {
   "cell_type": "code",
   "execution_count": null,
   "metadata": {},
   "outputs": [],
   "source": [
    "# Challenge 2: Your solution here\n",
    "# Experiment with different data types\n",
    "number1 = 10\n",
    "number2 = 3\n",
    "result = number1 / number2\n",
    "print(f\"10 / 3 = {result}, type: {type(result)}\")\n",
    "\n",
    "float_number = 3.0\n",
    "print(f\"3.0 type: {type(float_number)}\")\n",
    "\n",
    "# String with quotes inside\n",
    "quote_string = \"She said, 'Hello, Python!'\"\n",
    "print(f\"String with quotes: {quote_string}\")\n",
    "\n",
    "# Try your own experiments below:"
   ]
  },
  {
   "cell_type": "markdown",
   "metadata": {},
   "source": [
    "---\n",
    "\n",
    "## ✅ Self-Assessment Checklist\n",
    "\n",
    "Before moving to the next notebook, make sure you can:\n",
    "\n",
    "- [ ] Create variables and assign different types of values\n",
    "- [ ] Understand the difference between integers, floats, strings, and booleans\n",
    "- [ ] Use arithmetic operators (+, -, *, /, //, %, **)\n",
    "- [ ] Write and understand comments in code\n",
    "- [ ] Use print() statements to display output\n",
    "- [ ] Use f-strings for formatted output\n",
    "- [ ] Check the type of a variable using type()\n",
    "\n",
    "**Pro Tip:** If you're unsure about any item, review the relevant section above or ask for help!\n",
    "\n",
    "---\n",
    "\n",
    "## 🚀 What's Next?\n",
    "\n",
    "In the next notebook, you'll learn about:\n",
    "- **Control Structures**: Making decisions with if/else statements\n",
    "- **Loops**: Repeating actions efficiently\n",
    "- **User Input**: Making your programs interactive\n",
    "\n",
    "These are essential tools for writing more complex data science programs!"
   ]
  }
 ],
 "metadata": {
  "kernelspec": {
   "display_name": ".venv",
   "language": "python",
   "name": "python3"
  },
  "language_info": {
   "codemirror_mode": {
    "name": "ipython",
    "version": 3
   },
   "file_extension": ".py",
   "mimetype": "text/x-python",
   "name": "python",
   "nbconvert_exporter": "python",
   "pygments_lexer": "ipython3",
   "version": "3.13.3"
  }
 },
 "nbformat": 4,
 "nbformat_minor": 4
}
