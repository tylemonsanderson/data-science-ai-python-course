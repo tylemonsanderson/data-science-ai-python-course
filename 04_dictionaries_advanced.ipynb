{
 "cells": [
  {
   "cell_type": "markdown",
   "metadata": {},
   "source": [
    "# Notebook 4: Dictionaries and Advanced Operations\n",
    "\n",
    "Welcome to your fourth Python notebook! Now you'll learn about dictionaries - one of Python's most powerful data structures for organizing and accessing data efficiently.\n",
    "\n",
    "**Learning Objectives:**\n",
    "- Create and manipulate dictionaries\n",
    "- Use dictionaries for data organization\n",
    "- Work with nested data structures\n",
    "- Understand when to use lists vs dictionaries\n",
    "- Apply advanced data manipulation techniques"
   ]
  },
  {
   "cell_type": "markdown",
   "metadata": {},
   "source": [
    "## Introduction to Dictionaries\n",
    "\n",
    "A dictionary is a collection of key-value pairs. Think of it like a real dictionary where you look up a word (key) to find its definition (value)."
   ]
  },
  {
   "cell_type": "code",
   "execution_count": 1,
   "metadata": {},
   "outputs": [
    {
     "name": "stdout",
     "output_type": "stream",
     "text": [
      "Student dictionary: {'name': 'Alice', 'age': 20, 'major': 'Computer Science', 'gpa': 3.8}\n",
      "Type: <class 'dict'>\n",
      "Empty dictionary: {}\n"
     ]
    }
   ],
   "source": [
    "# Creating dictionaries\n",
    "student = {\n",
    "    \"name\": \"Alice\",\n",
    "    \"age\": 20,\n",
    "    \"major\": \"Computer Science\",\n",
    "    \"gpa\": 3.8\n",
    "}\n",
    "\n",
    "print(\"Student dictionary:\", student)\n",
    "print(\"Type:\", type(student))\n",
    "\n",
    "# Empty dictionary\n",
    "empty_dict = {}\n",
    "print(\"Empty dictionary:\", empty_dict)"
   ]
  },
  {
   "cell_type": "markdown",
   "metadata": {},
   "source": [
    "## Accessing Dictionary Values\n",
    "\n",
    "Use keys to access values in dictionaries:"
   ]
  },
  {
   "cell_type": "code",
   "execution_count": 2,
   "metadata": {},
   "outputs": [
    {
     "name": "stdout",
     "output_type": "stream",
     "text": [
      "Student name: Alice\n",
      "Student age: 20\n",
      "Student GPA: 3.8\n",
      "\n",
      "Major: Computer Science\n",
      "Phone (not exists): None\n",
      "Phone with default: Not provided\n"
     ]
    }
   ],
   "source": [
    "student = {\n",
    "    \"name\": \"Alice\",\n",
    "    \"age\": 20,\n",
    "    \"major\": \"Computer Science\",\n",
    "    \"gpa\": 3.8\n",
    "}\n",
    "\n",
    "# Accessing values using keys\n",
    "print(f\"Student name: {student['name']}\")\n",
    "print(f\"Student age: {student['age']}\")\n",
    "print(f\"Student GPA: {student['gpa']}\")\n",
    "print()\n",
    "\n",
    "# Safe access using .get() method\n",
    "print(f\"Major: {student.get('major')}\")\n",
    "print(f\"Phone (not exists): {student.get('phone')}\")\n",
    "print(f\"Phone with default: {student.get('phone', 'Not provided')}\")"
   ]
  },
  {
   "cell_type": "markdown",
   "metadata": {},
   "source": [
    "## Modifying Dictionaries\n",
    "\n",
    "Dictionaries are mutable - you can change, add, and remove items:"
   ]
  },
  {
   "cell_type": "code",
   "execution_count": 3,
   "metadata": {},
   "outputs": [
    {
     "name": "stdout",
     "output_type": "stream",
     "text": [
      "Original: {'name': 'Bob', 'age': 25}\n",
      "After adding: {'name': 'Bob', 'age': 25, 'city': 'New York', 'job': 'Data Analyst'}\n",
      "After birthday: {'name': 'Bob', 'age': 26, 'city': 'New York', 'job': 'Data Analyst'}\n",
      "After removing city: {'name': 'Bob', 'age': 26, 'job': 'Data Analyst'}\n",
      "Removed job: Data Analyst\n",
      "Final person: {'name': 'Bob', 'age': 26}\n"
     ]
    }
   ],
   "source": [
    "# Starting with basic info\n",
    "person = {\n",
    "    \"name\": \"Bob\",\n",
    "    \"age\": 25\n",
    "}\n",
    "print(\"Original:\", person)\n",
    "\n",
    "# Adding new key-value pairs\n",
    "person[\"city\"] = \"New York\"\n",
    "person[\"job\"] = \"Data Analyst\"\n",
    "print(\"After adding:\", person)\n",
    "\n",
    "# Modifying existing values\n",
    "person[\"age\"] = 26  # Birthday!\n",
    "print(\"After birthday:\", person)\n",
    "\n",
    "# Removing items\n",
    "del person[\"city\"]  # Remove city\n",
    "print(\"After removing city:\", person)\n",
    "\n",
    "# Remove and get the value\n",
    "job = person.pop(\"job\")\n",
    "print(f\"Removed job: {job}\")\n",
    "print(\"Final person:\", person)"
   ]
  },
  {
   "cell_type": "markdown",
   "metadata": {},
   "source": [
    "## Dictionary Methods\n",
    "\n",
    "Dictionaries have many useful methods for data manipulation:"
   ]
  },
  {
   "cell_type": "code",
   "execution_count": 4,
   "metadata": {},
   "outputs": [
    {
     "name": "stdout",
     "output_type": "stream",
     "text": [
      "Inventory: {'apples': 50, 'bananas': 30, 'oranges': 25, 'grapes': 40}\n",
      "\n",
      "All fruits (keys): ['apples', 'bananas', 'oranges', 'grapes']\n",
      "All quantities (values): [50, 30, 25, 40]\n",
      "All items (key-value pairs): [('apples', 50), ('bananas', 30), ('oranges', 25), ('grapes', 40)]\n",
      "\n",
      "Number of fruit types: 4\n",
      "Do we have apples? True\n",
      "Do we have mangoes? False\n"
     ]
    }
   ],
   "source": [
    "# Sample data - like a small database\n",
    "inventory = {\n",
    "    \"apples\": 50,\n",
    "    \"bananas\": 30,\n",
    "    \"oranges\": 25,\n",
    "    \"grapes\": 40\n",
    "}\n",
    "\n",
    "print(\"Inventory:\", inventory)\n",
    "print()\n",
    "\n",
    "# Get all keys, values, and items\n",
    "print(\"All fruits (keys):\", list(inventory.keys()))\n",
    "print(\"All quantities (values):\", list(inventory.values()))\n",
    "print(\"All items (key-value pairs):\", list(inventory.items()))\n",
    "print()\n",
    "\n",
    "# Dictionary length\n",
    "print(f\"Number of fruit types: {len(inventory)}\")\n",
    "\n",
    "# Check if key exists\n",
    "print(f\"Do we have apples? {'apples' in inventory}\")\n",
    "print(f\"Do we have mangoes? {'mangoes' in inventory}\")"
   ]
  },
  {
   "cell_type": "markdown",
   "metadata": {},
   "source": [
    "## Iterating Through Dictionaries\n",
    "\n",
    "Different ways to loop through dictionary data:"
   ]
  },
  {
   "cell_type": "code",
   "execution_count": 5,
   "metadata": {},
   "outputs": [
    {
     "name": "stdout",
     "output_type": "stream",
     "text": [
      "Method 1 - Keys only:\n",
      "Math: 85\n",
      "Science: 92\n",
      "English: 78\n",
      "History: 88\n",
      "\n",
      "Method 2 - Key-value pairs:\n",
      "Math: 85\n",
      "Science: 92\n",
      "English: 78\n",
      "History: 88\n",
      "\n",
      "Method 3 - Values only:\n",
      "Grade: 85\n",
      "Grade: 92\n",
      "Grade: 78\n",
      "Grade: 88\n"
     ]
    }
   ],
   "source": [
    "grades = {\n",
    "    \"Math\": 85,\n",
    "    \"Science\": 92,\n",
    "    \"English\": 78,\n",
    "    \"History\": 88\n",
    "}\n",
    "\n",
    "# Method 1: Iterate through keys\n",
    "print(\"Method 1 - Keys only:\")\n",
    "for subject in grades:\n",
    "    print(f\"{subject}: {grades[subject]}\")\n",
    "print()\n",
    "\n",
    "# Method 2: Iterate through key-value pairs\n",
    "print(\"Method 2 - Key-value pairs:\")\n",
    "for subject, grade in grades.items():\n",
    "    print(f\"{subject}: {grade}\")\n",
    "print()\n",
    "\n",
    "# Method 3: Iterate through values only\n",
    "print(\"Method 3 - Values only:\")\n",
    "for grade in grades.values():\n",
    "    print(f\"Grade: {grade}\")"
   ]
  },
  {
   "cell_type": "markdown",
   "metadata": {},
   "source": [
    "## Dictionary Comprehensions\n",
    "\n",
    "Like list comprehensions, but for dictionaries:"
   ]
  },
  {
   "cell_type": "code",
   "execution_count": 6,
   "metadata": {},
   "outputs": [
    {
     "name": "stdout",
     "output_type": "stream",
     "text": [
      "Squares: {1: 1, 2: 4, 3: 9, 4: 16, 5: 25}\n",
      "Celsius: {'morning': 20, 'noon': 30, 'evening': 25}\n",
      "Fahrenheit: {'morning': 68.0, 'noon': 86.0, 'evening': 77.0}\n",
      "All scores: {'Alice': 85, 'Bob': 92, 'Charlie': 78, 'Diana': 96}\n",
      "High scores (>=90): {'Bob': 92, 'Diana': 96}\n"
     ]
    }
   ],
   "source": [
    "# Create a dictionary of squares\n",
    "squares = {x: x**2 for x in range(1, 6)}\n",
    "print(\"Squares:\", squares)\n",
    "\n",
    "# Convert temperatures from Celsius to Fahrenheit\n",
    "celsius_temps = {\"morning\": 20, \"noon\": 30, \"evening\": 25}\n",
    "fahrenheit_temps = {time: (temp * 9/5) + 32 for time, temp in celsius_temps.items()}\n",
    "print(\"Celsius:\", celsius_temps)\n",
    "print(\"Fahrenheit:\", fahrenheit_temps)\n",
    "\n",
    "# Filter dictionary based on condition\n",
    "scores = {\"Alice\": 85, \"Bob\": 92, \"Charlie\": 78, \"Diana\": 96}\n",
    "high_scores = {name: score for name, score in scores.items() if score >= 90}\n",
    "print(\"All scores:\", scores)\n",
    "print(\"High scores (>=90):\", high_scores)"
   ]
  },
  {
   "cell_type": "markdown",
   "metadata": {},
   "source": [
    "## Nested Dictionaries - Complex Data Structures\n",
    "\n",
    "Dictionaries can contain other dictionaries, creating complex data structures:"
   ]
  },
  {
   "cell_type": "code",
   "execution_count": 7,
   "metadata": {},
   "outputs": [
    {
     "name": "stdout",
     "output_type": "stream",
     "text": [
      "Alice's name: Alice Johnson\n",
      "Alice's Math grade: 85\n",
      "Bob's email: bob@email.com\n",
      "\n",
      "Student Summary:\n",
      "Alice Johnson (Computer Science): Average grade = 91.0\n",
      "Bob Smith (Data Science): Average grade = 90.7\n"
     ]
    }
   ],
   "source": [
    "# Student database with nested information\n",
    "students_db = {\n",
    "    \"student_001\": {\n",
    "        \"name\": \"Alice Johnson\",\n",
    "        \"age\": 20,\n",
    "        \"major\": \"Computer Science\",\n",
    "        \"grades\": {\n",
    "            \"Math\": 85,\n",
    "            \"Physics\": 92,\n",
    "            \"Programming\": 96\n",
    "        },\n",
    "        \"contact\": {\n",
    "            \"email\": \"alice@email.com\",\n",
    "            \"phone\": \"555-0123\"\n",
    "        }\n",
    "    },\n",
    "    \"student_002\": {\n",
    "        \"name\": \"Bob Smith\",\n",
    "        \"age\": 21,\n",
    "        \"major\": \"Data Science\",\n",
    "        \"grades\": {\n",
    "            \"Statistics\": 88,\n",
    "            \"Python\": 94,\n",
    "            \"Machine Learning\": 90\n",
    "        },\n",
    "        \"contact\": {\n",
    "            \"email\": \"bob@email.com\",\n",
    "            \"phone\": \"555-0456\"\n",
    "        }\n",
    "    }\n",
    "}\n",
    "\n",
    "# Accessing nested data\n",
    "print(\"Alice's name:\", students_db[\"student_001\"][\"name\"])\n",
    "print(\"Alice's Math grade:\", students_db[\"student_001\"][\"grades\"][\"Math\"])\n",
    "print(\"Bob's email:\", students_db[\"student_002\"][\"contact\"][\"email\"])\n",
    "print()\n",
    "\n",
    "# Processing nested data\n",
    "print(\"Student Summary:\")\n",
    "for student_id, info in students_db.items():\n",
    "    name = info[\"name\"]\n",
    "    major = info[\"major\"]\n",
    "    grades = info[\"grades\"]\n",
    "    avg_grade = sum(grades.values()) / len(grades)\n",
    "    \n",
    "    print(f\"{name} ({major}): Average grade = {avg_grade:.1f}\")"
   ]
  },
  {
   "cell_type": "markdown",
   "metadata": {},
   "source": [
    "## Combining Lists and Dictionaries\n",
    "\n",
    "Real-world data often combines both structures:"
   ]
  },
  {
   "cell_type": "code",
   "execution_count": 8,
   "metadata": {},
   "outputs": [
    {
     "name": "stdout",
     "output_type": "stream",
     "text": [
      "Employee Database:\n",
      "Alice: Engineering, $75,000, 3 years\n",
      "Bob: Marketing, $65,000, 5 years\n",
      "Charlie: Engineering, $80,000, 7 years\n",
      "Diana: Sales, $70,000, 2 years\n",
      "\n",
      "Employees by Department:\n",
      "Engineering: Alice, Charlie\n",
      "Marketing: Bob\n",
      "Sales: Diana\n"
     ]
    }
   ],
   "source": [
    "# List of dictionaries - like a database table\n",
    "employees = [\n",
    "    {\"name\": \"Alice\", \"department\": \"Engineering\", \"salary\": 75000, \"years\": 3},\n",
    "    {\"name\": \"Bob\", \"department\": \"Marketing\", \"salary\": 65000, \"years\": 5},\n",
    "    {\"name\": \"Charlie\", \"department\": \"Engineering\", \"salary\": 80000, \"years\": 7},\n",
    "    {\"name\": \"Diana\", \"department\": \"Sales\", \"salary\": 70000, \"years\": 2}\n",
    "]\n",
    "\n",
    "print(\"Employee Database:\")\n",
    "for emp in employees:\n",
    "    print(f\"{emp['name']}: {emp['department']}, ${emp['salary']:,}, {emp['years']} years\")\n",
    "print()\n",
    "\n",
    "# Dictionary with lists as values\n",
    "department_data = {\n",
    "    \"Engineering\": [\"Alice\", \"Charlie\"],\n",
    "    \"Marketing\": [\"Bob\"],\n",
    "    \"Sales\": [\"Diana\"]\n",
    "}\n",
    "\n",
    "print(\"Employees by Department:\")\n",
    "for dept, emp_list in department_data.items():\n",
    "    print(f\"{dept}: {', '.join(emp_list)}\")"
   ]
  },
  {
   "cell_type": "markdown",
   "metadata": {},
   "source": [
    "## Data Analysis with Dictionaries\n",
    "\n",
    "Dictionaries are excellent for counting and grouping data:"
   ]
  },
  {
   "cell_type": "code",
   "execution_count": 9,
   "metadata": {},
   "outputs": [
    {
     "name": "stdout",
     "output_type": "stream",
     "text": [
      "Survey Results:\n",
      "Yes: 5 responses (50.0%)\n",
      "No: 3 responses (30.0%)\n",
      "Maybe: 2 responses (20.0%)\n",
      "\n",
      "Word frequency:\n",
      "'the': 2\n",
      "'quick': 1\n",
      "'brown': 1\n",
      "'fox': 1\n",
      "'jumps': 1\n",
      "'over': 1\n",
      "'lazy': 1\n",
      "'dog': 1\n"
     ]
    }
   ],
   "source": [
    "# Analyzing survey responses\n",
    "responses = [\"Yes\", \"No\", \"Yes\", \"Maybe\", \"Yes\", \"No\", \"Yes\", \"Maybe\", \"Yes\", \"No\"]\n",
    "\n",
    "# Count responses\n",
    "response_counts = {}\n",
    "for response in responses:\n",
    "    if response in response_counts:\n",
    "        response_counts[response] += 1\n",
    "    else:\n",
    "        response_counts[response] = 1\n",
    "\n",
    "print(\"Survey Results:\")\n",
    "for response, count in response_counts.items():\n",
    "    percentage = (count / len(responses)) * 100\n",
    "    print(f\"{response}: {count} responses ({percentage:.1f}%)\")\n",
    "print()\n",
    "\n",
    "# Alternative using .get() method\n",
    "word_text = \"the quick brown fox jumps over the lazy dog\"\n",
    "word_counts = {}\n",
    "\n",
    "for word in word_text.split():\n",
    "    word_counts[word] = word_counts.get(word, 0) + 1\n",
    "\n",
    "print(\"Word frequency:\")\n",
    "for word, count in word_counts.items():\n",
    "    print(f\"'{word}': {count}\")"
   ]
  },
  {
   "cell_type": "markdown",
   "metadata": {},
   "source": [
    "## When to Use Lists vs Dictionaries\n",
    "\n",
    "Understanding when to use each data structure is important:"
   ]
  },
  {
   "cell_type": "code",
   "execution_count": 10,
   "metadata": {},
   "outputs": [
    {
     "name": "stdout",
     "output_type": "stream",
     "text": [
      "Test scores (ordered): [85, 92, 78, 96, 88]\n",
      "First score: 85\n",
      "Shopping list: ['milk', 'bread', 'eggs', 'milk']\n",
      "\n",
      "Student grades: {'Alice': 85, 'Bob': 92, 'Charlie': 78}\n",
      "Alice's grade: 85\n",
      "Configuration: {'debug': True, 'max_users': 100, 'timeout': 30}\n"
     ]
    }
   ],
   "source": [
    "# Use LISTS when:\n",
    "# - Order matters\n",
    "# - You need to access items by position\n",
    "# - You have duplicate values\n",
    "\n",
    "test_scores = [85, 92, 78, 96, 88]  # Order matters (chronological)\n",
    "shopping_list = [\"milk\", \"bread\", \"eggs\", \"milk\"]  # Duplicates allowed\n",
    "\n",
    "print(\"Test scores (ordered):\", test_scores)\n",
    "print(\"First score:\", test_scores[0])\n",
    "print(\"Shopping list:\", shopping_list)\n",
    "print()\n",
    "\n",
    "# Use DICTIONARIES when:\n",
    "# - You need fast lookups by key\n",
    "# - Data has natural key-value relationships\n",
    "# - Order doesn't matter (or you want to organize by meaningful keys)\n",
    "\n",
    "student_grades = {\"Alice\": 85, \"Bob\": 92, \"Charlie\": 78}  # Fast lookup by name\n",
    "config_settings = {\"debug\": True, \"max_users\": 100, \"timeout\": 30}  # Key-value pairs\n",
    "\n",
    "print(\"Student grades:\", student_grades)\n",
    "print(\"Alice's grade:\", student_grades[\"Alice\"])  # Fast lookup\n",
    "print(\"Configuration:\", config_settings)"
   ]
  },
  {
   "cell_type": "markdown",
   "metadata": {},
   "source": [
    "## Practice Exercises\n",
    "\n",
    "These exercises will help you master dictionaries for data science:"
   ]
  },
  {
   "cell_type": "markdown",
   "metadata": {},
   "source": [
    "### Exercise 1: Data Aggregation\n",
    "Given sales data, calculate total sales by product category."
   ]
  },
  {
   "cell_type": "code",
   "execution_count": 11,
   "metadata": {},
   "outputs": [
    {
     "name": "stdout",
     "output_type": "stream",
     "text": [
      "Sales by Category:\n"
     ]
    }
   ],
   "source": [
    "# Sales transactions: [product_category, amount]\n",
    "sales_data = [\n",
    "    [\"Electronics\", 1200],\n",
    "    [\"Clothing\", 800],\n",
    "    [\"Electronics\", 1500],\n",
    "    [\"Books\", 300],\n",
    "    [\"Clothing\", 600],\n",
    "    [\"Electronics\", 900],\n",
    "    [\"Books\", 250],\n",
    "    [\"Clothing\", 750]\n",
    "]\n",
    "\n",
    "# Your code here: calculate total sales by category\n",
    "category_totals = {}\n",
    "\n",
    "for category, amount in sales_data:\n",
    "    # Add your logic here\n",
    "    pass\n",
    "\n",
    "print(\"Sales by Category:\")\n",
    "for category, total in category_totals.items():\n",
    "    print(f\"{category}: ${total:,}\")\n",
    "\n",
    "# Bonus: Find the category with highest sales\n",
    "# top_category = max(category_totals, key=category_totals.get)\n",
    "# print(f\"\\nTop category: {top_category} (${category_totals[top_category]:,})\")"
   ]
  },
  {
   "cell_type": "markdown",
   "metadata": {},
   "source": [
    "### Exercise 2: Data Cleaning and Transformation\n",
    "Clean and organize messy customer data."
   ]
  },
  {
   "cell_type": "code",
   "execution_count": 12,
   "metadata": {},
   "outputs": [
    {
     "name": "stdout",
     "output_type": "stream",
     "text": [
      "Cleaned customer data:\n",
      "{}\n",
      "{}\n",
      "{}\n",
      "{}\n"
     ]
    }
   ],
   "source": [
    "# Messy customer data\n",
    "raw_customers = [\n",
    "    \"Alice,25,New York,alice@email.com\",\n",
    "    \"Bob,30,Los Angeles,bob@email.com\",\n",
    "    \"Charlie,28,Chicago,charlie@email.com\",\n",
    "    \"Diana,35,Houston,diana@email.com\"\n",
    "]\n",
    "\n",
    "# Your code here: convert to list of dictionaries\n",
    "customers = []\n",
    "\n",
    "for customer_string in raw_customers:\n",
    "    # Split the string and create a dictionary\n",
    "    parts = customer_string.split(\",\")\n",
    "    customer_dict = {\n",
    "        # Add your code here\n",
    "    }\n",
    "    customers.append(customer_dict)\n",
    "\n",
    "print(\"Cleaned customer data:\")\n",
    "for customer in customers:\n",
    "    print(customer)\n",
    "\n",
    "# Bonus: Find average age\n",
    "# ages = [customer[\"age\"] for customer in customers]\n",
    "# avg_age = sum(ages) / len(ages)\n",
    "# print(f\"\\nAverage age: {avg_age:.1f}\")"
   ]
  },
  {
   "cell_type": "markdown",
   "metadata": {},
   "source": [
    "### Exercise 3: Nested Data Analysis\n",
    "Analyze a complex dataset with nested structures."
   ]
  },
  {
   "cell_type": "code",
   "execution_count": 13,
   "metadata": {},
   "outputs": [
    {
     "name": "stdout",
     "output_type": "stream",
     "text": [
      "Company Analysis:\n",
      "========================================\n",
      "Engineering:\n",
      "  Employees: 3\n",
      "  Budget: $500,000\n",
      "  Projects: 3\n",
      "  Budget per employee: $166,667\n",
      "\n",
      "Marketing:\n",
      "  Employees: 2\n",
      "  Budget: $200,000\n",
      "  Projects: 2\n",
      "  Budget per employee: $100,000\n",
      "\n",
      "Sales:\n",
      "  Employees: 4\n",
      "  Budget: $300,000\n",
      "  Projects: 2\n",
      "  Budget per employee: $75,000\n",
      "\n",
      "Company Totals:\n",
      "Total employees: 9\n",
      "Total budget: $1,000,000\n",
      "Total projects: 7\n",
      "Average budget per employee: $111,111\n"
     ]
    }
   ],
   "source": [
    "# Company data with departments and employees\n",
    "company_data = {\n",
    "    \"Engineering\": {\n",
    "        \"employees\": [\"Alice\", \"Bob\", \"Charlie\"],\n",
    "        \"budget\": 500000,\n",
    "        \"projects\": [\"Web App\", \"Mobile App\", \"API\"]\n",
    "    },\n",
    "    \"Marketing\": {\n",
    "        \"employees\": [\"Diana\", \"Eve\"],\n",
    "        \"budget\": 200000,\n",
    "        \"projects\": [\"Campaign A\", \"Campaign B\"]\n",
    "    },\n",
    "    \"Sales\": {\n",
    "        \"employees\": [\"Frank\", \"Grace\", \"Henry\", \"Ivy\"],\n",
    "        \"budget\": 300000,\n",
    "        \"projects\": [\"Q1 Sales\", \"Q2 Sales\"]\n",
    "    }\n",
    "}\n",
    "\n",
    "print(\"Company Analysis:\")\n",
    "print(\"=\" * 40)\n",
    "\n",
    "total_employees = 0\n",
    "total_budget = 0\n",
    "total_projects = 0\n",
    "\n",
    "for dept_name, dept_info in company_data.items():\n",
    "    num_employees = len(dept_info[\"employees\"])\n",
    "    budget = dept_info[\"budget\"]\n",
    "    num_projects = len(dept_info[\"projects\"])\n",
    "    \n",
    "    print(f\"{dept_name}:\")\n",
    "    print(f\"  Employees: {num_employees}\")\n",
    "    print(f\"  Budget: ${budget:,}\")\n",
    "    print(f\"  Projects: {num_projects}\")\n",
    "    print(f\"  Budget per employee: ${budget/num_employees:,.0f}\")\n",
    "    print()\n",
    "    \n",
    "    total_employees += num_employees\n",
    "    total_budget += budget\n",
    "    total_projects += num_projects\n",
    "\n",
    "print(\"Company Totals:\")\n",
    "print(f\"Total employees: {total_employees}\")\n",
    "print(f\"Total budget: ${total_budget:,}\")\n",
    "print(f\"Total projects: {total_projects}\")\n",
    "print(f\"Average budget per employee: ${total_budget/total_employees:,.0f}\")"
   ]
  },
  {
   "cell_type": "markdown",
   "metadata": {},
   "source": [
    "### Exercise 4: Data Transformation Pipeline\n",
    "Create a data processing pipeline using dictionaries."
   ]
  },
  {
   "cell_type": "code",
   "execution_count": 14,
   "metadata": {},
   "outputs": [
    {
     "name": "stdout",
     "output_type": "stream",
     "text": [
      "Processed Sensor Data:\n",
      "2024-01-01 08:00: 22.5°C (72.5°F), 65% humidity - uncomfortable\n",
      "2024-01-01 09:00: 23.1°C (73.6°F), 62% humidity - uncomfortable\n",
      "2024-01-01 10:00: 24.8°C (76.6°F), 58% humidity - comfortable\n",
      "2024-01-01 11:00: 26.2°C (79.2°F), 55% humidity - uncomfortable\n",
      "2024-01-01 12:00: 27.5°C (81.5°F), 52% humidity - uncomfortable\n",
      "2024-01-01 13:00: 28.1°C (82.6°F), 50% humidity - uncomfortable\n",
      "\n",
      "Daily Statistics:\n",
      "Temperature: 22.5°C - 28.1°C (avg: 25.4°C)\n",
      "Humidity: 50% - 65% (avg: 57.0%)\n",
      "\n",
      "Comfort Level Distribution:\n",
      "Uncomfortable: 5 readings (83.3%)\n",
      "Comfortable: 1 readings (16.7%)\n"
     ]
    }
   ],
   "source": [
    "# Raw sensor data: timestamp, temperature, humidity\n",
    "sensor_readings = [\n",
    "    (\"2024-01-01 08:00\", 22.5, 65),\n",
    "    (\"2024-01-01 09:00\", 23.1, 62),\n",
    "    (\"2024-01-01 10:00\", 24.8, 58),\n",
    "    (\"2024-01-01 11:00\", 26.2, 55),\n",
    "    (\"2024-01-01 12:00\", 27.5, 52),\n",
    "    (\"2024-01-01 13:00\", 28.1, 50)\n",
    "]\n",
    "\n",
    "# Step 1: Convert to structured format\n",
    "structured_data = []\n",
    "for timestamp, temp, humidity in sensor_readings:\n",
    "    reading = {\n",
    "        \"timestamp\": timestamp,\n",
    "        \"temperature_c\": temp,\n",
    "        \"humidity_percent\": humidity,\n",
    "        \"temperature_f\": (temp * 9/5) + 32,  # Convert to Fahrenheit\n",
    "        \"comfort_level\": \"comfortable\" if 20 <= temp <= 25 and 40 <= humidity <= 60 else \"uncomfortable\"\n",
    "    }\n",
    "    structured_data.append(reading)\n",
    "\n",
    "print(\"Processed Sensor Data:\")\n",
    "for reading in structured_data:\n",
    "    print(f\"{reading['timestamp']}: {reading['temperature_c']}°C ({reading['temperature_f']:.1f}°F), \"\n",
    "          f\"{reading['humidity_percent']}% humidity - {reading['comfort_level']}\")\n",
    "\n",
    "# Step 2: Calculate statistics\n",
    "temperatures = [reading[\"temperature_c\"] for reading in structured_data]\n",
    "humidities = [reading[\"humidity_percent\"] for reading in structured_data]\n",
    "\n",
    "stats = {\n",
    "    \"temperature\": {\n",
    "        \"min\": min(temperatures),\n",
    "        \"max\": max(temperatures),\n",
    "        \"avg\": sum(temperatures) / len(temperatures)\n",
    "    },\n",
    "    \"humidity\": {\n",
    "        \"min\": min(humidities),\n",
    "        \"max\": max(humidities),\n",
    "        \"avg\": sum(humidities) / len(humidities)\n",
    "    }\n",
    "}\n",
    "\n",
    "print(\"\\nDaily Statistics:\")\n",
    "print(f\"Temperature: {stats['temperature']['min']}°C - {stats['temperature']['max']}°C (avg: {stats['temperature']['avg']:.1f}°C)\")\n",
    "print(f\"Humidity: {stats['humidity']['min']}% - {stats['humidity']['max']}% (avg: {stats['humidity']['avg']:.1f}%)\")\n",
    "\n",
    "# Step 3: Count comfort levels\n",
    "comfort_counts = {}\n",
    "for reading in structured_data:\n",
    "    level = reading[\"comfort_level\"]\n",
    "    comfort_counts[level] = comfort_counts.get(level, 0) + 1\n",
    "\n",
    "print(\"\\nComfort Level Distribution:\")\n",
    "for level, count in comfort_counts.items():\n",
    "    percentage = (count / len(structured_data)) * 100\n",
    "    print(f\"{level.title()}: {count} readings ({percentage:.1f}%)\")"
   ]
  },
  {
   "cell_type": "markdown",
   "metadata": {},
   "source": [
    "## Key Takeaways\n",
    "\n",
    "1. **Dictionaries** store key-value pairs for fast lookups and data organization\n",
    "2. **Keys** must be unique and immutable (strings, numbers, tuples)\n",
    "3. **Dictionary methods** like .get(), .keys(), .values(), .items() are essential\n",
    "4. **Dictionary comprehensions** provide concise data transformation\n",
    "5. **Nested dictionaries** handle complex, hierarchical data\n",
    "6. **Combining lists and dictionaries** creates powerful data structures\n",
    "7. **Use dictionaries** for counting, grouping, and organizing data\n",
    "8. **Choose the right structure**: lists for ordered data, dictionaries for key-value relationships\n",
    "\n",
    "Dictionaries are fundamental to data science work. You'll use them for data cleaning, transformation, analysis, and organizing results. Combined with lists, they form the backbone of most data processing tasks. In the next notebook, we'll learn about functions and code organization to make your data science code more efficient and reusable."
   ]
  }
 ],
 "metadata": {
  "kernelspec": {
   "display_name": "venv",
   "language": "python",
   "name": "python3"
  },
  "language_info": {
   "codemirror_mode": {
    "name": "ipython",
    "version": 3
   },
   "file_extension": ".py",
   "mimetype": "text/x-python",
   "name": "python",
   "nbconvert_exporter": "python",
   "pygments_lexer": "ipython3",
   "version": "3.11.5"
  }
 },
 "nbformat": 4,
 "nbformat_minor": 4
}
