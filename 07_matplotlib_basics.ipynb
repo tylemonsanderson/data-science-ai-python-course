{
  "cells": [
    {
      "cell_type": "markdown",
      "metadata": {},
      "source": [
        "# Notebook 7: Matplotlib Basics\n",
        "\n",
        "Welcome to your seventh Python notebook! Now you'll learn about matplotlib - the primary plotting library in Python. Data visualization is crucial for understanding and communicating insights from data.\n",
        "\n",
        "**Learning Objectives:**\n",
        "- Create basic plots with matplotlib\n",
        "- Customize plot appearance\n",
        "- Create different types of plots\n",
        "- Add labels, titles, and legends\n",
        "- Save plots for reports and presentations"
      ]
    },
    {
      "cell_type": "code",
      "execution_count": null,
      "metadata": {},
      "outputs": [],
      "source": [
        "# The standard data science imports\n",
        "import matplotlib.pyplot as plt\n",
        "import numpy as np\n",
        "\n",
        "# Essential for Jupyter notebooks!\n",
        "%matplotlib inline\n",
        "\n",
        "# Set better defaults\n",
        "plt.rcParams['figure.figsize'] = (10, 6)\n",
        "plt.rcParams['font.size'] = 12\n",
        "\n",
        "print(\"✅ Matplotlib and NumPy imported successfully!\")\n",
        "print(f\"Matplotlib version: {plt.__version__}\")\n",
        "\n",
        "# Create sample data\n",
        "x = np.linspace(0, 10, 50)\n",
        "y = 2 * x + 1 + np.random.normal(0, 1, 50)  # Linear relationship with noise\n",
        "\n",
        "print(f\"Generated {len(x)} data points for plotting\")"
      ]
    },
    {
      "cell_type": "markdown",
      "metadata": {},
      "source": [
        "## Basic Line Plot - Your First Visualization\n",
        "\n",
        "Let's create a professional-looking plot:"
      ]
    },
    {
      "cell_type": "code",
      "execution_count": null,
      "metadata": {},
      "outputs": [],
      "source": [
        "# Basic scatter plot - common in data exploration\n",
        "plt.figure(figsize=(10, 6))\n",
        "plt.scatter(x, y, alpha=0.6, color='blue')\n",
        "plt.title('Sample Data: Linear Relationship with Noise')\n",
        "plt.xlabel('X values')\n",
        "plt.ylabel('Y values')\n",
        "plt.grid(True, alpha=0.3)\n",
        "plt.show()\n",
        "\n",
        "# Multiple plots in one figure - very common pattern!\n",
        "fig, (ax1, ax2) = plt.subplots(1, 2, figsize=(15, 5))\n",
        "\n",
        "# Left plot: scatter\n",
        "ax1.scatter(x, y, alpha=0.6)\n",
        "ax1.set_title('Scatter Plot')\n",
        "ax1.set_xlabel('X')\n",
        "ax1.set_ylabel('Y')\n",
        "ax1.grid(True, alpha=0.3)\n",
        "\n",
        "# Right plot: histogram  \n",
        "ax2.hist(y, bins=15, alpha=0.7, color='green')\n",
        "ax2.set_title('Distribution of Y values')\n",
        "ax2.set_xlabel('Y values')\n",
        "ax2.set_ylabel('Frequency')\n",
        "ax2.grid(True, alpha=0.3)\n",
        "\n",
        "plt.tight_layout()  # Prevents overlap\n",
        "plt.show()\n",
        "\n",
        "print(\"🎨 Great! You've created professional-looking plots!\")"
      ]
    },
    {
      "cell_type": "markdown",
      "metadata": {},
      "source": [
        "## Getting Started with Matplotlib\n",
        "\n",
        "First, let's import the necessary libraries and set up our plotting environment:"
      ]
    },
    {
      "cell_type": "code",
      "execution_count": null,
      "metadata": {},
      "outputs": [],
      "source": [
        "# Import matplotlib and numpy\n",
        "import matplotlib.pyplot as plt\n",
        "import numpy as np\n",
        "\n",
        "# Enable inline plotting in Jupyter\n",
        "%matplotlib inline\n",
        "\n",
        "# Set up better default figure size\n",
        "plt.rcParams['figure.figsize'] = (10, 6)\n",
        "\n",
        "print(\"Matplotlib imported successfully!\")\n",
        "print(f\"Matplotlib version: {plt.matplotlib.__version__}\")\n",
        "print(f\"NumPy version: {np.__version__}\")"
      ]
    },
    {
      "cell_type": "markdown",
      "metadata": {},
      "source": [
        "## Your First Plot: Simple Line Graph\n",
        "\n",
        "Let's create a basic line plot to visualize some data:"
      ]
    },
    {
      "cell_type": "code",
      "execution_count": null,
      "metadata": {},
      "outputs": [],
      "source": [
        "# Simple line plot\n",
        "x = [1, 2, 3, 4, 5, 6, 7, 8, 9, 10]\n",
        "y = [2, 4, 6, 8, 10, 12, 14, 16, 18, 20]\n",
        "\n",
        "plt.figure(figsize=(8, 5))\n",
        "plt.plot(x, y)\n",
        "plt.title('My First Matplotlib Plot')\n",
        "plt.xlabel('X values')\n",
        "plt.ylabel('Y values')\n",
        "plt.grid(True, alpha=0.3)  # Add a subtle grid\n",
        "plt.show()\n",
        "\n",
        "print(\"Great! You've created your first plot!\")"
      ]
    }
  ],
  "metadata": {
    "kernelspec": {
      "display_name": ".venv",
      "language": "python",
      "name": "python3"
    },
    "language_info": {
      "codemirror_mode": {
        "name": "ipython",
        "version": 3
      },
      "file_extension": ".py",
      "mimetype": "text/x-python",
      "name": "python",
      "nbconvert_exporter": "python",
      "pygments_lexer": "ipython3",
      "version": "3.13.3"
    }
  },
  "nbformat": 4,
  "nbformat_minor": 4
}
