{
  "cells": [
    {
      "cell_type": "markdown",
      "metadata": {},
      "source": [
        "# Notebook 6: NumPy Fundamentals\n",
        "\n",
        "Welcome to your sixth Python notebook! Now you'll learn about NumPy (Numerical Python) - the foundation of data science in Python. NumPy provides powerful tools for working with arrays and mathematical operations.\n",
        "\n",
        "**Learning Objectives:**\n",
        "- Understand what NumPy is and why it's important\n",
        "- Create and manipulate NumPy arrays\n",
        "- Perform mathematical operations on arrays\n",
        "- Use array indexing and slicing\n",
        "- Apply NumPy to data science problems"
      ]
    },
    {
      "cell_type": "code",
      "execution_count": 1,
      "metadata": {},
      "outputs": [
        {
          "name": "stdout",
          "output_type": "stream",
          "text": [
            "NumPy version: 2.3.1\n",
            "NumPy array: [1 2 3 4 5]\n",
            "Array type: <class 'numpy.ndarray'>\n"
          ]
        }
      ],
      "source": [
        "# Import NumPy (standard convention)\n",
        "import numpy as np\n",
        "\n",
        "# Check NumPy version\n",
        "print(f\"NumPy version: {np.__version__}\")\n",
        "\n",
        "# Create a simple array\n",
        "arr = np.array([1, 2, 3, 4, 5])\n",
        "print(\"NumPy array:\", arr)\n",
        "print(\"Array type:\", type(arr))"
      ]
    },
    {
      "cell_type": "markdown",
      "metadata": {},
      "source": [
        "## Array Operations - The Power of NumPy\n",
        "\n",
        "NumPy's real strength is performing operations on entire arrays at once:"
      ]
    },
    {
      "cell_type": "code",
      "execution_count": null,
      "metadata": {},
      "outputs": [],
      "source": [
        "# Real data science example: Temperature data\n",
        "temperatures_celsius = np.array([20, 25, 30, 15, 35, 28, 22])\n",
        "print(\"Temperatures (°C):\", temperatures_celsius)\n",
        "\n",
        "# Convert all to Fahrenheit in one operation!\n",
        "temperatures_fahrenheit = temperatures_celsius * 9/5 + 32\n",
        "print(\"Temperatures (°F):\", temperatures_fahrenheit)\n",
        "\n",
        "# Boolean operations - very common in ML!\n",
        "hot_days = temperatures_celsius > 25\n",
        "print(\"Hot days (>25°C):\", hot_days)\n",
        "print(\"Hot temperatures:\", temperatures_celsius[hot_days])\n",
        "\n",
        "# Statistical operations\n",
        "print(f\"\\nStatistics:\")\n",
        "print(f\"Mean temperature: {np.mean(temperatures_celsius):.1f}°C\")\n",
        "print(f\"Max temperature: {np.max(temperatures_celsius)}°C\")\n",
        "print(f\"Standard deviation: {np.std(temperatures_celsius):.1f}°C\")\n",
        "\n",
        "# Array slicing - YOU'LL SEE THIS EVERYWHERE IN ML!\n",
        "print(f\"\\nFirst 3 temperatures: {temperatures_celsius[0:3]}\")  # This pattern is everywhere!\n",
        "print(f\"Last 2 temperatures: {temperatures_celsius[-2:]}\")"
      ]
    },
    {
      "cell_type": "markdown",
      "metadata": {},
      "source": [
        "## Matrix Operations - Foundation of Machine Learning\n",
        "\n",
        "These operations are the mathematical foundation of all ML algorithms:"
      ]
    },
    {
      "cell_type": "code",
      "execution_count": null,
      "metadata": {},
      "outputs": [],
      "source": [
        "# Create data matrix (like you'll see in ML notebooks)\n",
        "# Each row = one data sample, each column = one feature\n",
        "X = np.array([[1, 2, 3],      # Sample 1: features [1, 2, 3]\n",
        "              [4, 5, 6],      # Sample 2: features [4, 5, 6]  \n",
        "              [7, 8, 9]])     # Sample 3: features [7, 8, 9]\n",
        "\n",
        "print(\"Data matrix X:\")\n",
        "print(X)\n",
        "print(f\"Shape: {X.shape} (3 samples, 3 features)\")\n",
        "\n",
        "# The most important operation in ML: matrix transpose\n",
        "X_T = X.T  # You'll see this notation EVERYWHERE!\n",
        "print(f\"\\nX transpose (.T):\")\n",
        "print(X_T)\n",
        "print(f\"Shape: {X_T.shape}\")\n",
        "\n",
        "# Matrix multiplication - core of neural networks!\n",
        "result = X.dot(X_T)  # or X @ X_T\n",
        "print(f\"\\nMatrix multiplication X @ X.T:\")\n",
        "print(result)\n",
        "\n",
        "# Simulate ML prediction pattern\n",
        "weights = np.array([0.5, 0.3, 0.2])  # Model weights\n",
        "predictions = X.dot(weights)  # This is how predictions are made!\n",
        "print(f\"\\nWeights: {weights}\")\n",
        "print(f\"Predictions: {predictions}\")\n",
        "\n",
        "# Generate random data (very common in ML)\n",
        "np.random.seed(42)  # For reproducible results\n",
        "random_data = np.random.randn(5, 3)  # 5 samples, 3 features\n",
        "print(f\"\\nRandom data shape: {random_data.shape}\")\n",
        "print(\"First 3 samples:\")\n",
        "print(random_data[0:3])  # This slicing pattern again!"
      ]
    }
  ],
  "metadata": {
    "kernelspec": {
      "display_name": ".venv",
      "language": "python",
      "name": "python3"
    },
    "language_info": {
      "codemirror_mode": {
        "name": "ipython",
        "version": 3
      },
      "file_extension": ".py",
      "mimetype": "text/x-python",
      "name": "python",
      "nbconvert_exporter": "python",
      "pygments_lexer": "ipython3",
      "version": "3.13.3"
    }
  },
  "nbformat": 4,
  "nbformat_minor": 4
}
